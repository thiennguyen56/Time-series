{
 "cells": [
  {
   "cell_type": "code",
   "execution_count": 1,
   "metadata": {},
   "outputs": [],
   "source": [
    "import numpy as np\n",
    "import pandas as pd\n",
    "import matplotlib.pyplot as plt\n",
    "from datetime import datetime\n",
    "from tensorflow.keras.models import Sequential\n",
    "from tensorflow.keras.layers import Dense,LSTM\n",
    "from sklearn.preprocessing import MinMaxScaler\n"
   ]
  },
  {
   "cell_type": "code",
   "execution_count": 2,
   "metadata": {},
   "outputs": [
    {
     "data": {
      "text/html": [
       "<div>\n",
       "<style scoped>\n",
       "    .dataframe tbody tr th:only-of-type {\n",
       "        vertical-align: middle;\n",
       "    }\n",
       "\n",
       "    .dataframe tbody tr th {\n",
       "        vertical-align: top;\n",
       "    }\n",
       "\n",
       "    .dataframe thead th {\n",
       "        text-align: right;\n",
       "    }\n",
       "</style>\n",
       "<table border=\"1\" class=\"dataframe\">\n",
       "  <thead>\n",
       "    <tr style=\"text-align: right;\">\n",
       "      <th></th>\n",
       "      <th>dateRep</th>\n",
       "      <th>cases</th>\n",
       "      <th>total</th>\n",
       "    </tr>\n",
       "  </thead>\n",
       "  <tbody>\n",
       "    <tr>\n",
       "      <th>0</th>\n",
       "      <td>2019-12-31</td>\n",
       "      <td>0</td>\n",
       "      <td>0</td>\n",
       "    </tr>\n",
       "    <tr>\n",
       "      <th>1</th>\n",
       "      <td>2020-01-01</td>\n",
       "      <td>0</td>\n",
       "      <td>0</td>\n",
       "    </tr>\n",
       "    <tr>\n",
       "      <th>2</th>\n",
       "      <td>2020-01-02</td>\n",
       "      <td>0</td>\n",
       "      <td>0</td>\n",
       "    </tr>\n",
       "    <tr>\n",
       "      <th>3</th>\n",
       "      <td>2020-01-03</td>\n",
       "      <td>0</td>\n",
       "      <td>0</td>\n",
       "    </tr>\n",
       "    <tr>\n",
       "      <th>4</th>\n",
       "      <td>2020-01-04</td>\n",
       "      <td>0</td>\n",
       "      <td>0</td>\n",
       "    </tr>\n",
       "  </tbody>\n",
       "</table>\n",
       "</div>"
      ],
      "text/plain": [
       "     dateRep  cases  total\n",
       "0 2019-12-31      0      0\n",
       "1 2020-01-01      0      0\n",
       "2 2020-01-02      0      0\n",
       "3 2020-01-03      0      0\n",
       "4 2020-01-04      0      0"
      ]
     },
     "execution_count": 2,
     "metadata": {},
     "output_type": "execute_result"
    }
   ],
   "source": [
    "data = pd.read_csv('Covid-19_VietNam.csv', usecols=[1,5,6])\n",
    "data['dateRep'] = pd.to_datetime(data['dateRep'])\n",
    "data.head()"
   ]
  },
  {
   "cell_type": "code",
   "execution_count": 3,
   "metadata": {},
   "outputs": [
    {
     "data": {
      "image/png": "[encoded data removed]",
      "text/plain": [
       "<Figure size 1152x648 with 1 Axes>"
      ]
     },
     "metadata": {
      "needs_background": "light"
     },
     "output_type": "display_data"
    }
   ],
   "source": [
    "plt.figure(figsize=(16,9))\n",
    "x = data['dateRep']\n",
    "y = data['cases']\n",
    "z = data['total']\n",
    "plt.plot(x,y)\n",
    "plt.plot(x,z)\n",
    "plt.legend(['Cases', 'Total'])\n",
    "plt.show()"
   ]
  },
  {
   "cell_type": "code",
   "execution_count": 4,
   "metadata": {},
   "outputs": [],
   "source": [
    "def create_dataset(dataset, look_back=9):\n",
    "\tdataX, dataY = [], []\n",
    "\tfor i in range(len(dataset)-look_back-1):\n",
    "\t\ta = dataset[i:(i+look_back),0]\n",
    "\t\tdataX.append(a)\n",
    "\t\tdataY.append(dataset[i + look_back,0])\n",
    "\treturn np.array(dataX), np.array(dataY)\n"
   ]
  },
  {
   "cell_type": "code",
   "execution_count": 5,
   "metadata": {},
   "outputs": [
    {
     "data": {
      "text/plain": [
       "(118, 1)"
      ]
     },
     "execution_count": 5,
     "metadata": {},
     "output_type": "execute_result"
    }
   ],
   "source": [
    "from sklearn.preprocessing import MinMaxScaler\n",
    "dataset = data['total'].values\n",
    "dataset = dataset.astype('float32')\n",
    "dataset = dataset.reshape(-1,1)\n",
    "scaler = MinMaxScaler(feature_range=(0,1))\n",
    "dataset = scaler.fit_transform(dataset)\n",
    "dataset.shape"
   ]
  },
  {
   "cell_type": "code",
   "execution_count": 6,
   "metadata": {},
   "outputs": [],
   "source": [
    "train_size = int(len(dataset) * 0.7)\n",
    "test_size = len(dataset) - train_size\n",
    "train, test = dataset[0:train_size,:], dataset[train_size:len(dataset),:]"
   ]
  },
  {
   "cell_type": "code",
   "execution_count": 7,
   "metadata": {},
   "outputs": [
    {
     "name": "stdout",
     "output_type": "stream",
     "text": [
      "[[0.        ]\n",
      " [0.        ]\n",
      " [0.        ]\n",
      " [0.        ]\n",
      " [0.        ]\n",
      " [0.        ]\n",
      " [0.        ]\n",
      " [0.        ]\n",
      " [0.        ]\n",
      " [0.        ]\n",
      " [0.        ]\n",
      " [0.        ]\n",
      " [0.        ]\n",
      " [0.        ]\n",
      " [0.        ]\n",
      " [0.        ]\n",
      " [0.        ]\n",
      " [0.        ]\n",
      " [0.        ]\n",
      " [0.        ]\n",
      " [0.        ]\n",
      " [0.        ]\n",
      " [0.        ]\n",
      " [0.        ]\n",
      " [0.00740741]\n",
      " [0.00740741]\n",
      " [0.00740741]\n",
      " [0.00740741]\n",
      " [0.00740741]\n",
      " [0.00740741]\n",
      " [0.00740741]\n",
      " [0.01851852]\n",
      " [0.01851852]\n",
      " [0.02592593]\n",
      " [0.02962963]\n",
      " [0.03333333]\n",
      " [0.03703704]\n",
      " [0.03703704]\n",
      " [0.04444444]\n",
      " [0.04814815]\n",
      " [0.05185185]\n",
      " [0.05185185]\n",
      " [0.05555556]\n",
      " [0.05555556]\n",
      " [0.05925926]\n",
      " [0.05925926]\n",
      " [0.05925926]\n",
      " [0.05925926]\n",
      " [0.05925926]\n",
      " [0.05925926]\n",
      " [0.05925926]\n",
      " [0.05925926]\n",
      " [0.05925926]\n",
      " [0.05925926]\n",
      " [0.05925926]\n",
      " [0.05925926]\n",
      " [0.05925926]\n",
      " [0.05925926]\n",
      " [0.05925926]\n",
      " [0.05925926]\n",
      " [0.05925926]\n",
      " [0.05925926]\n",
      " [0.05925926]\n",
      " [0.06296296]\n",
      " [0.07777777]\n",
      " [0.11111111]\n",
      " [0.12592593]\n",
      " [0.14074074]\n",
      " [0.14444444]\n",
      " [0.16296296]\n",
      " [0.19629629]\n",
      " [0.19629629]\n",
      " [0.21111111]\n",
      " [0.22592592]\n",
      " [0.25185186]\n",
      " [0.28148147]\n",
      " [0.3222222 ]\n",
      " [0.32592592]\n",
      " [0.35185185]\n",
      " [0.44814813]]\n"
     ]
    }
   ],
   "source": [
    "look_back = 1\n",
    "trainX, trainY = create_dataset(train, look_back)\n",
    "testX, testY = create_dataset(test, look_back)\n",
    "print(trainX)"
   ]
  },
  {
   "cell_type": "code",
   "execution_count": 8,
   "metadata": {},
   "outputs": [],
   "source": [
    "trainX = np.reshape(trainX, (trainX.shape[0], 1, trainX.shape[1]))\n",
    "testX = np.reshape(testX, (testX.shape[0], 1, testX.shape[1]))"
   ]
  },
  {
   "cell_type": "code",
   "execution_count": 9,
   "metadata": {},
   "outputs": [
    {
     "name": "stdout",
     "output_type": "stream",
     "text": [
      "Epoch 1/15\n",
      "40/40 - 0s - loss: 0.0120\n",
      "Epoch 2/15\n",
      "40/40 - 0s - loss: 0.0092\n",
      "Epoch 3/15\n",
      "40/40 - 0s - loss: 0.0087\n",
      "Epoch 4/15\n",
      "40/40 - 0s - loss: 0.0079\n",
      "Epoch 5/15\n",
      "40/40 - 0s - loss: 0.0076\n",
      "Epoch 6/15\n",
      "40/40 - 0s - loss: 0.0070\n",
      "Epoch 7/15\n",
      "40/40 - 0s - loss: 0.0057\n",
      "Epoch 8/15\n",
      "40/40 - 0s - loss: 0.0049\n",
      "Epoch 9/15\n",
      "40/40 - 0s - loss: 0.0047\n",
      "Epoch 10/15\n",
      "40/40 - 0s - loss: 0.0031\n",
      "Epoch 11/15\n",
      "40/40 - 0s - loss: 0.0032\n",
      "Epoch 12/15\n",
      "40/40 - 0s - loss: 0.0020\n",
      "Epoch 13/15\n",
      "40/40 - 0s - loss: 0.0024\n",
      "Epoch 14/15\n",
      "40/40 - 0s - loss: 8.6144e-04\n",
      "Epoch 15/15\n",
      "40/40 - 0s - loss: 6.4140e-04\n"
     ]
    },
    {
     "data": {
      "text/plain": [
       "<tensorflow.python.keras.callbacks.History at 0x2709e7d5e88>"
      ]
     },
     "execution_count": 9,
     "metadata": {},
     "output_type": "execute_result"
    }
   ],
   "source": [
    "from tensorflow.keras.layers import Dropout\n",
    "model = Sequential()\n",
    "model.add(LSTM(256, input_shape=(1, look_back), activation='relu'))\n",
    "model.add(Dropout(0.5))\n",
    "model.add(Dense(1))\n",
    "model.compile(loss='mean_squared_error', optimizer='adam')\n",
    "model.fit(trainX, trainY, epochs=15, batch_size=2, verbose=2)"
   ]
  },
  {
   "cell_type": "code",
   "execution_count": 10,
   "metadata": {},
   "outputs": [],
   "source": [
    "trainPredict = model.predict(trainX)\n",
    "testPredict = model.predict(testX)\n",
    "trainPredict = trainPredict.reshape(-1,1)\n",
    "testPredict = testPredict.reshape(-1,1)\n",
    "#trainPredict = scaler.inverse_transform(trainPredict)\n",
    "#testPredict = scaler.inverse_transform(testPredict)\n",
    "#dataset = scaler.inverse_transform(dataset)"
   ]
  },
  {
   "cell_type": "code",
   "execution_count": 11,
   "metadata": {},
   "outputs": [],
   "source": [
    "trainPredict = scaler.inverse_transform(trainPredict)\n",
    "testPredict = scaler.inverse_transform(testPredict)\n",
    "dataset = scaler.inverse_transform(dataset)"
   ]
  },
  {
   "cell_type": "code",
   "execution_count": 12,
   "metadata": {},
   "outputs": [
    {
     "data": {
      "image/png": "[encoded data removed]",
      "text/plain": [
       "<Figure size 1152x648 with 1 Axes>"
      ]
     },
     "metadata": {
      "needs_background": "light"
     },
     "output_type": "display_data"
    }
   ],
   "source": [
    "# shift train predictions for plotting\n",
    "trainPredictPlot = np.empty_like(dataset)\n",
    "trainPredictPlot[:, :] = np.nan\n",
    "trainPredictPlot[look_back:len(trainPredict)+look_back, :] = trainPredict\n",
    "# shift test predictions for plotting\n",
    "testPredictPlot = np.empty_like(dataset)\n",
    "testPredictPlot[:, :] = np.nan\n",
    "testPredictPlot[len(trainPredict)+(look_back*2)+1:len(dataset)-1, :] = testPredict\n",
    "# plot baseline and predictions\n",
    "plt.figure(figsize=(16,9))\n",
    "plt.plot(dataset, color = 'blue')\n",
    "plt.plot(trainPredictPlot, color = 'orange')\n",
    "plt.plot(testPredictPlot, color = 'red')\n",
    "plt.legend(['Original','Train_Predicted','Test_Predicted'])\n",
    "plt.title('The Total positive with Covid-19 following days in VietNam')\n",
    "plt.ylabel('The number of People')\n",
    "plt.show()"
   ]
  },
  {
   "cell_type": "code",
   "execution_count": 13,
   "metadata": {},
   "outputs": [],
   "source": [
    "testY =scaler.inverse_transform(testY.reshape(-1,1))"
   ]
  },
  {
   "cell_type": "code",
   "execution_count": 14,
   "metadata": {},
   "outputs": [
    {
     "data": {
      "text/plain": [
       "array([[163.],\n",
       "       [171.],\n",
       "       [188.],\n",
       "       [203.],\n",
       "       [206.],\n",
       "       [212.],\n",
       "       [233.],\n",
       "       [236.],\n",
       "       [240.],\n",
       "       [241.],\n",
       "       [245.],\n",
       "       [251.],\n",
       "       [251.],\n",
       "       [255.],\n",
       "       [257.],\n",
       "       [258.],\n",
       "       [262.],\n",
       "       [264.],\n",
       "       [267.],\n",
       "       [268.],\n",
       "       [268.],\n",
       "       [268.],\n",
       "       [268.],\n",
       "       [268.],\n",
       "       [268.],\n",
       "       [268.],\n",
       "       [268.],\n",
       "       [268.],\n",
       "       [270.],\n",
       "       [270.],\n",
       "       [270.],\n",
       "       [270.],\n",
       "       [270.],\n",
       "       [270.]], dtype=float32)"
      ]
     },
     "execution_count": 14,
     "metadata": {},
     "output_type": "execute_result"
    }
   ],
   "source": [
    "testY"
   ]
  },
  {
   "cell_type": "code",
   "execution_count": 15,
   "metadata": {},
   "outputs": [
    {
     "data": {
      "text/plain": [
       "array([[147.42786],\n",
       "       [157.62724],\n",
       "       [165.85071],\n",
       "       [183.51546],\n",
       "       [199.36795],\n",
       "       [202.56802],\n",
       "       [208.99529],\n",
       "       [231.79968],\n",
       "       [235.09723],\n",
       "       [239.50842],\n",
       "       [240.61404],\n",
       "       [245.04794],\n",
       "       [251.73288],\n",
       "       [251.73288],\n",
       "       [256.21222],\n",
       "       [258.45874],\n",
       "       [259.58374],\n",
       "       [264.09497],\n",
       "       [266.35745],\n",
       "       [269.75967],\n",
       "       [270.89606],\n",
       "       [270.89606],\n",
       "       [270.89606],\n",
       "       [270.89606],\n",
       "       [270.89606],\n",
       "       [270.89606],\n",
       "       [270.89606],\n",
       "       [270.89606],\n",
       "       [270.89606],\n",
       "       [273.1722 ],\n",
       "       [273.1722 ],\n",
       "       [273.1722 ],\n",
       "       [273.1722 ],\n",
       "       [273.1722 ]], dtype=float32)"
      ]
     },
     "execution_count": 15,
     "metadata": {},
     "output_type": "execute_result"
    }
   ],
   "source": [
    "testPredict"
   ]
  },
  {
   "cell_type": "code",
   "execution_count": 16,
   "metadata": {},
   "outputs": [
    {
     "name": "stdout",
     "output_type": "stream",
     "text": [
      "5.3431087\n",
      "65.85045\n",
      "8.114829\n"
     ]
    }
   ],
   "source": [
    "from sklearn.metrics import mean_absolute_error\n",
    "from sklearn.metrics import mean_squared_error\n",
    "MAE = mean_absolute_error(testY, testPredict)\n",
    "MSE = mean_squared_error(testY, testPredict)\n",
    "RMSE = np.sqrt(MSE)\n",
    "print(MAE)\n",
    "print(MSE)\n",
    "print(RMSE)"
   ]
  },
  {
   "cell_type": "code",
   "execution_count": 17,
   "metadata": {},
   "outputs": [
    {
     "data": {
      "text/plain": [
       "(118, 1)"
      ]
     },
     "execution_count": 17,
     "metadata": {},
     "output_type": "execute_result"
    }
   ],
   "source": [
    "from sklearn.preprocessing import MinMaxScaler\n",
    "dataset = data['total'].values\n",
    "dataset = dataset.astype('float32')\n",
    "dataset = dataset.reshape(-1,1)\n",
    "scaler = MinMaxScaler(feature_range=(0,1))\n",
    "dataset = scaler.fit_transform(dataset)\n",
    "dataset.shape"
   ]
  },
  {
   "cell_type": "code",
   "execution_count": 18,
   "metadata": {},
   "outputs": [],
   "source": [
    "train_size = int(len(dataset) * 0.7)\n",
    "test_size = len(dataset) - train_size\n",
    "train, test = dataset[0:train_size,:], dataset[train_size:len(dataset),:]"
   ]
  },
  {
   "cell_type": "code",
   "execution_count": 19,
   "metadata": {},
   "outputs": [],
   "source": [
    "look_back = 7\n",
    "trainX, trainY = create_dataset(train, look_back)\n",
    "testX, testY = create_dataset(test, look_back)"
   ]
  },
  {
   "cell_type": "code",
   "execution_count": 20,
   "metadata": {},
   "outputs": [
    {
     "name": "stdout",
     "output_type": "stream",
     "text": [
      "Epoch 1/4\n",
      "WARNING:tensorflow:Model was constructed with shape (None, 1, 7) for input Tensor(\"dense_1_input:0\", shape=(None, 1, 7), dtype=float32), but it was called on an input with incompatible shape (2, 7).\n",
      "WARNING:tensorflow:Model was constructed with shape (None, 1, 7) for input Tensor(\"dense_1_input:0\", shape=(None, 1, 7), dtype=float32), but it was called on an input with incompatible shape (2, 7).\n",
      "37/37 - 0s - loss: 0.0108\n",
      "Epoch 2/4\n",
      "37/37 - 0s - loss: 0.0026\n",
      "Epoch 3/4\n",
      "37/37 - 0s - loss: 0.0020\n",
      "Epoch 4/4\n",
      "37/37 - 0s - loss: 7.1078e-04\n"
     ]
    },
    {
     "data": {
      "text/plain": [
       "<tensorflow.python.keras.callbacks.History at 0x2722e90e648>"
      ]
     },
     "execution_count": 20,
     "metadata": {},
     "output_type": "execute_result"
    }
   ],
   "source": [
    "ANN_model = Sequential()\n",
    "ANN_model.add(Dense(128, input_shape=(1, look_back), activation='relu'))\n",
    "ANN_model.add(Dropout(0.5))\n",
    "ANN_model.add(Dense(1))\n",
    "ANN_model.compile(loss='mean_squared_error', optimizer='adam')\n",
    "ANN_model.fit(trainX, trainY, epochs=4, batch_size=2, verbose=2)"
   ]
  },
  {
   "cell_type": "code",
   "execution_count": 21,
   "metadata": {},
   "outputs": [
    {
     "name": "stdout",
     "output_type": "stream",
     "text": [
      "WARNING:tensorflow:Model was constructed with shape (None, 1, 7) for input Tensor(\"dense_1_input:0\", shape=(None, 1, 7), dtype=float32), but it was called on an input with incompatible shape (None, 7).\n"
     ]
    }
   ],
   "source": [
    "trainPredict = ANN_model.predict(trainX)\n",
    "testPredict = ANN_model.predict(testX)\n",
    "trainPredict = trainPredict.reshape(-1,1)\n",
    "testPredict = testPredict.reshape(-1,1)"
   ]
  },
  {
   "cell_type": "code",
   "execution_count": 22,
   "metadata": {},
   "outputs": [],
   "source": [
    "trainPredict = scaler.inverse_transform(trainPredict)\n",
    "testPredict = scaler.inverse_transform(testPredict)\n",
    "dataset = scaler.inverse_transform(dataset)"
   ]
  },
  {
   "cell_type": "code",
   "execution_count": 23,
   "metadata": {},
   "outputs": [
    {
     "data": {
      "image/png": "[encoded data removed]",
      "text/plain": [
       "<Figure size 1152x648 with 1 Axes>"
      ]
     },
     "metadata": {
      "needs_background": "light"
     },
     "output_type": "display_data"
    }
   ],
   "source": [
    "trainPredictPlot = np.empty_like(dataset)\n",
    "trainPredictPlot[:, :] = np.nan\n",
    "trainPredictPlot[look_back:len(trainPredict)+look_back, :] = trainPredict\n",
    "# shift test predictions for plotting\n",
    "testPredictPlot = np.empty_like(dataset)\n",
    "testPredictPlot[:, :] = np.nan\n",
    "testPredictPlot[len(trainPredict)+(look_back*2)+1:len(dataset)-1, :] = testPredict\n",
    "# plot baseline and predictions\n",
    "plt.figure(figsize=(16,9))\n",
    "plt.plot(dataset, color = 'blue')\n",
    "plt.plot(trainPredictPlot, color = 'orange')\n",
    "plt.plot(testPredictPlot, color = 'red')\n",
    "plt.legend(['Original','Train_Predicted','Test_Predicted'])\n",
    "plt.title('The Total positive with Covid-19 following days in VietNam ')\n",
    "plt.ylabel('The number of Cases')\n",
    "plt.show()"
   ]
  },
  {
   "cell_type": "code",
   "execution_count": 24,
   "metadata": {},
   "outputs": [],
   "source": [
    "testY =scaler.inverse_transform(testY.reshape(-1,1))"
   ]
  },
  {
   "cell_type": "code",
   "execution_count": 25,
   "metadata": {},
   "outputs": [
    {
     "name": "stdout",
     "output_type": "stream",
     "text": [
      "10.547991\n",
      "151.92029\n",
      "12.325595\n"
     ]
    }
   ],
   "source": [
    "from sklearn.metrics import mean_absolute_error\n",
    "from sklearn.metrics import mean_squared_error\n",
    "MAE = mean_absolute_error(testY, testPredict)\n",
    "MSE = mean_squared_error(testY, testPredict)\n",
    "RMSE = np.sqrt(MSE)\n",
    "print(MAE)\n",
    "print(MSE)\n",
    "print(RMSE)"
   ]
  },
  {
   "cell_type": "code",
   "execution_count": null,
   "metadata": {},
   "outputs": [],
   "source": []
  },
  {
   "cell_type": "code",
   "execution_count": null,
   "metadata": {},
   "outputs": [],
   "source": []
  },
  {
   "cell_type": "code",
   "execution_count": null,
   "metadata": {},
   "outputs": [],
   "source": []
  },
  {
   "cell_type": "code",
   "execution_count": null,
   "metadata": {},
   "outputs": [],
   "source": []
  },
  {
   "cell_type": "code",
   "execution_count": null,
   "metadata": {},
   "outputs": [],
   "source": []
  },
  {
   "cell_type": "code",
   "execution_count": null,
   "metadata": {},
   "outputs": [],
   "source": []
  },
  {
   "cell_type": "code",
   "execution_count": null,
   "metadata": {},
   "outputs": [],
   "source": []
  }
 ],
 "metadata": {
  "kernelspec": {
   "display_name": "Python 3",
   "language": "python",
   "name": "python3"
  },
  "language_info": {
   "codemirror_mode": {
    "name": "ipython",
    "version": 3
   },
   "file_extension": ".py",
   "mimetype": "text/x-python",
   "name": "python",
   "nbconvert_exporter": "python",
   "pygments_lexer": "ipython3",
   "version": "3.7.7"
  }
 },
 "nbformat": 4,
 "nbformat_minor": 4
}
