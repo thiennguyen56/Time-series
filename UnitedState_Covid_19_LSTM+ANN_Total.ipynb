{
 "cells": [
  {
   "cell_type": "code",
   "execution_count": 1,
   "metadata": {},
   "outputs": [],
   "source": [
    "import numpy as np\n",
    "import pandas as pd\n",
    "import matplotlib.pyplot as plt\n",
    "from datetime import datetime\n",
    "from tensorflow.keras.models import Sequential\n",
    "from tensorflow.keras.layers import Dense,LSTM\n",
    "from sklearn.preprocessing import MinMaxScaler\n"
   ]
  },
  {
   "cell_type": "code",
   "execution_count": 2,
   "metadata": {},
   "outputs": [
    {
     "data": {
      "text/html": [
       "<div>\n",
       "<style scoped>\n",
       "    .dataframe tbody tr th:only-of-type {\n",
       "        vertical-align: middle;\n",
       "    }\n",
       "\n",
       "    .dataframe tbody tr th {\n",
       "        vertical-align: top;\n",
       "    }\n",
       "\n",
       "    .dataframe thead th {\n",
       "        text-align: right;\n",
       "    }\n",
       "</style>\n",
       "<table border=\"1\" class=\"dataframe\">\n",
       "  <thead>\n",
       "    <tr style=\"text-align: right;\">\n",
       "      <th></th>\n",
       "      <th>dateRep</th>\n",
       "      <th>cases</th>\n",
       "      <th>total</th>\n",
       "    </tr>\n",
       "  </thead>\n",
       "  <tbody>\n",
       "    <tr>\n",
       "      <th>0</th>\n",
       "      <td>2019-12-31</td>\n",
       "      <td>0</td>\n",
       "      <td>0</td>\n",
       "    </tr>\n",
       "    <tr>\n",
       "      <th>1</th>\n",
       "      <td>2020-01-01</td>\n",
       "      <td>0</td>\n",
       "      <td>0</td>\n",
       "    </tr>\n",
       "    <tr>\n",
       "      <th>2</th>\n",
       "      <td>2020-01-02</td>\n",
       "      <td>0</td>\n",
       "      <td>0</td>\n",
       "    </tr>\n",
       "    <tr>\n",
       "      <th>3</th>\n",
       "      <td>2020-01-03</td>\n",
       "      <td>0</td>\n",
       "      <td>0</td>\n",
       "    </tr>\n",
       "    <tr>\n",
       "      <th>4</th>\n",
       "      <td>2020-01-04</td>\n",
       "      <td>0</td>\n",
       "      <td>0</td>\n",
       "    </tr>\n",
       "  </tbody>\n",
       "</table>\n",
       "</div>"
      ],
      "text/plain": [
       "     dateRep  cases  total\n",
       "0 2019-12-31      0      0\n",
       "1 2020-01-01      0      0\n",
       "2 2020-01-02      0      0\n",
       "3 2020-01-03      0      0\n",
       "4 2020-01-04      0      0"
      ]
     },
     "execution_count": 2,
     "metadata": {},
     "output_type": "execute_result"
    }
   ],
   "source": [
    "data = pd.read_csv('Covid-19_US.csv', usecols=[1,5,6])\n",
    "data['dateRep'] = pd.to_datetime(data['dateRep'])\n",
    "data.head()"
   ]
  },
  {
   "cell_type": "code",
   "execution_count": 3,
   "metadata": {},
   "outputs": [
    {
     "data": {
      "image/png": "[encoded data removed]",
      "text/plain": [
       "<Figure size 1152x648 with 1 Axes>"
      ]
     },
     "metadata": {
      "needs_background": "light"
     },
     "output_type": "display_data"
    }
   ],
   "source": [
    "plt.figure(figsize=(16,9))\n",
    "x = data['dateRep']\n",
    "y = data['cases']\n",
    "z = data['total']\n",
    "plt.plot(x,y)\n",
    "plt.plot(x,z)\n",
    "plt.legend(['Cases', 'Total'])\n",
    "plt.show()"
   ]
  },
  {
   "cell_type": "code",
   "execution_count": 4,
   "metadata": {},
   "outputs": [],
   "source": [
    "def create_dataset(dataset, look_back=9):\n",
    "\tdataX, dataY = [], []\n",
    "\tfor i in range(len(dataset)-look_back-1):\n",
    "\t\ta = dataset[i:(i+look_back),0]\n",
    "\t\tdataX.append(a)\n",
    "\t\tdataY.append(dataset[i + look_back,0])\n",
    "\treturn np.array(dataX), np.array(dataY)\n"
   ]
  },
  {
   "cell_type": "code",
   "execution_count": 5,
   "metadata": {},
   "outputs": [
    {
     "data": {
      "text/plain": [
       "(122, 1)"
      ]
     },
     "execution_count": 5,
     "metadata": {},
     "output_type": "execute_result"
    }
   ],
   "source": [
    "from sklearn.preprocessing import MinMaxScaler\n",
    "dataset = data['total'].values\n",
    "dataset = dataset.astype('float32')\n",
    "dataset = dataset.reshape(-1,1)\n",
    "scaler = MinMaxScaler(feature_range=(0,1))\n",
    "dataset = scaler.fit_transform(dataset)\n",
    "dataset.shape"
   ]
  },
  {
   "cell_type": "code",
   "execution_count": 6,
   "metadata": {},
   "outputs": [],
   "source": [
    "train_size = int(len(dataset) * 0.7)\n",
    "test_size = len(dataset) - train_size\n",
    "train, test = dataset[0:train_size,:], dataset[train_size:len(dataset),:]"
   ]
  },
  {
   "cell_type": "code",
   "execution_count": 7,
   "metadata": {},
   "outputs": [
    {
     "name": "stdout",
     "output_type": "stream",
     "text": [
      "[[0.00000000e+00]\n",
      " [0.00000000e+00]\n",
      " [0.00000000e+00]\n",
      " [0.00000000e+00]\n",
      " [0.00000000e+00]\n",
      " [0.00000000e+00]\n",
      " [0.00000000e+00]\n",
      " [0.00000000e+00]\n",
      " [0.00000000e+00]\n",
      " [0.00000000e+00]\n",
      " [0.00000000e+00]\n",
      " [0.00000000e+00]\n",
      " [0.00000000e+00]\n",
      " [0.00000000e+00]\n",
      " [0.00000000e+00]\n",
      " [0.00000000e+00]\n",
      " [0.00000000e+00]\n",
      " [0.00000000e+00]\n",
      " [0.00000000e+00]\n",
      " [0.00000000e+00]\n",
      " [0.00000000e+00]\n",
      " [9.61622618e-07]\n",
      " [9.61622618e-07]\n",
      " [9.61622618e-07]\n",
      " [9.61622618e-07]\n",
      " [1.92324524e-06]\n",
      " [1.92324524e-06]\n",
      " [4.80811286e-06]\n",
      " [4.80811286e-06]\n",
      " [4.80811286e-06]\n",
      " [4.80811286e-06]\n",
      " [5.76973571e-06]\n",
      " [6.73135855e-06]\n",
      " [7.69298094e-06]\n",
      " [1.05778490e-05]\n",
      " [1.05778490e-05]\n",
      " [1.05778490e-05]\n",
      " [1.15394714e-05]\n",
      " [1.15394714e-05]\n",
      " [1.15394714e-05]\n",
      " [1.15394714e-05]\n",
      " [1.15394714e-05]\n",
      " [1.25010938e-05]\n",
      " [1.25010938e-05]\n",
      " [1.34627171e-05]\n",
      " [1.44243395e-05]\n",
      " [1.44243395e-05]\n",
      " [1.44243395e-05]\n",
      " [1.44243395e-05]\n",
      " [1.44243395e-05]\n",
      " [1.44243395e-05]\n",
      " [1.44243395e-05]\n",
      " [1.53859619e-05]\n",
      " [3.36567900e-05]\n",
      " [3.36567900e-05]\n",
      " [3.36567900e-05]\n",
      " [5.09659985e-05]\n",
      " [5.09659985e-05]\n",
      " [5.67357347e-05]\n",
      " [5.76973580e-05]\n",
      " [6.34670942e-05]\n",
      " [6.63519604e-05]\n",
      " [8.55844119e-05]\n",
      " [9.90471308e-05]\n",
      " [1.20202829e-04]\n",
      " [1.52897992e-04]\n",
      " [2.24058065e-04]\n",
      " [3.25028435e-04]\n",
      " [4.16382594e-04]\n",
      " [5.32738923e-04]\n",
      " [7.25063437e-04]\n",
      " [9.85663151e-04]\n",
      " [1.26164884e-03]\n",
      " [1.59917842e-03]\n",
      " [2.09056749e-03]\n",
      " [2.83774827e-03]\n",
      " [3.62916384e-03]\n",
      " [4.48212307e-03]\n",
      " [6.18034834e-03]\n",
      " [9.05367732e-03]\n",
      " [1.37031227e-02]\n",
      " [1.88708827e-02]\n",
      " [2.57205199e-02]]\n"
     ]
    }
   ],
   "source": [
    "look_back = 1\n",
    "trainX, trainY = create_dataset(train, look_back)\n",
    "testX, testY = create_dataset(test, look_back)\n",
    "print(trainX)"
   ]
  },
  {
   "cell_type": "code",
   "execution_count": 8,
   "metadata": {},
   "outputs": [],
   "source": [
    "trainX = np.reshape(trainX, (trainX.shape[0], 1, trainX.shape[1]))\n",
    "testX = np.reshape(testX, (testX.shape[0], 1, testX.shape[1]))"
   ]
  },
  {
   "cell_type": "code",
   "execution_count": 9,
   "metadata": {},
   "outputs": [
    {
     "name": "stdout",
     "output_type": "stream",
     "text": [
      "Epoch 1/20\n",
      "42/42 - 0s - loss: 3.0986e-05\n",
      "Epoch 2/20\n",
      "42/42 - 0s - loss: 2.9714e-05\n",
      "Epoch 3/20\n",
      "42/42 - 0s - loss: 2.9725e-05\n",
      "Epoch 4/20\n",
      "42/42 - 0s - loss: 3.2185e-05\n",
      "Epoch 5/20\n",
      "42/42 - 0s - loss: 3.2104e-05\n",
      "Epoch 6/20\n",
      "42/42 - 0s - loss: 3.0023e-05\n",
      "Epoch 7/20\n",
      "42/42 - 0s - loss: 3.1462e-05\n",
      "Epoch 8/20\n",
      "42/42 - 0s - loss: 2.9043e-05\n",
      "Epoch 9/20\n",
      "42/42 - 0s - loss: 2.8567e-05\n",
      "Epoch 10/20\n",
      "42/42 - 0s - loss: 3.0021e-05\n",
      "Epoch 11/20\n",
      "42/42 - 0s - loss: 2.9731e-05\n",
      "Epoch 12/20\n",
      "42/42 - 0s - loss: 2.9152e-05\n",
      "Epoch 13/20\n",
      "42/42 - 0s - loss: 3.0717e-05\n",
      "Epoch 14/20\n",
      "42/42 - 0s - loss: 3.1237e-05\n",
      "Epoch 15/20\n",
      "42/42 - 0s - loss: 2.9459e-05\n",
      "Epoch 16/20\n",
      "42/42 - 0s - loss: 3.0872e-05\n",
      "Epoch 17/20\n",
      "42/42 - 0s - loss: 2.9942e-05\n",
      "Epoch 18/20\n",
      "42/42 - 0s - loss: 3.2802e-05\n",
      "Epoch 19/20\n",
      "42/42 - 0s - loss: 2.9528e-05\n",
      "Epoch 20/20\n",
      "42/42 - 0s - loss: 3.0284e-05\n"
     ]
    },
    {
     "data": {
      "text/plain": [
       "<tensorflow.python.keras.callbacks.History at 0x16ab8ae5148>"
      ]
     },
     "execution_count": 9,
     "metadata": {},
     "output_type": "execute_result"
    }
   ],
   "source": [
    "from tensorflow.keras.layers import Dropout\n",
    "model = Sequential()\n",
    "model.add(LSTM(256, input_shape=(1, look_back), activation='relu'))\n",
    "model.add(Dropout(0.3))\n",
    "model.add(Dense(1))\n",
    "model.compile(loss='mean_squared_error', optimizer='adam')\n",
    "model.fit(trainX, trainY, epochs=15, batch_size=2, verbose=2)"
   ]
  },
  {
   "cell_type": "code",
   "execution_count": 10,
   "metadata": {},
   "outputs": [],
   "source": [
    "trainPredict = model.predict(trainX)\n",
    "testPredict = model.predict(testX)\n",
    "trainPredict = trainPredict.reshape(-1,1)\n",
    "testPredict = testPredict.reshape(-1,1)\n",
    "#trainPredict = scaler.inverse_transform(trainPredict)\n",
    "#testPredict = scaler.inverse_transform(testPredict)\n",
    "#dataset = scaler.inverse_transform(dataset)"
   ]
  },
  {
   "cell_type": "code",
   "execution_count": 11,
   "metadata": {},
   "outputs": [],
   "source": [
    "trainPredict = scaler.inverse_transform(trainPredict)\n",
    "testPredict = scaler.inverse_transform(testPredict)\n",
    "dataset = scaler.inverse_transform(dataset)"
   ]
  },
  {
   "cell_type": "code",
   "execution_count": 12,
   "metadata": {},
   "outputs": [
    {
     "data": {
      "image/png": "[encoded data removed]",
      "text/plain": [
       "<Figure size 1152x648 with 1 Axes>"
      ]
     },
     "metadata": {
      "needs_background": "light"
     },
     "output_type": "display_data"
    }
   ],
   "source": [
    "# shift train predictions for plotting\n",
    "trainPredictPlot = np.empty_like(dataset)\n",
    "trainPredictPlot[:, :] = np.nan\n",
    "trainPredictPlot[look_back:len(trainPredict)+look_back, :] = trainPredict\n",
    "# shift test predictions for plotting\n",
    "testPredictPlot = np.empty_like(dataset)\n",
    "testPredictPlot[:, :] = np.nan\n",
    "testPredictPlot[len(trainPredict)+(look_back*2)+1:len(dataset)-1, :] = testPredict\n",
    "# plot baseline and predictions\n",
    "plt.figure(figsize=(16,9))\n",
    "plt.plot(dataset, color = 'blue')\n",
    "plt.plot(trainPredictPlot, color = 'orange')\n",
    "plt.plot(testPredictPlot, color = 'red')\n",
    "plt.legend(['Original','Train_Predicted','Test_Predicted'])\n",
    "plt.title('The Total positive with Covid-19 following days in US')\n",
    "plt.ylabel('The number of People')\n",
    "plt.show()"
   ]
  },
  {
   "cell_type": "code",
   "execution_count": 13,
   "metadata": {},
   "outputs": [],
   "source": [
    "testY =scaler.inverse_transform(testY.reshape(-1,1))"
   ]
  },
  {
   "cell_type": "code",
   "execution_count": 14,
   "metadata": {},
   "outputs": [
    {
     "data": {
      "text/plain": [
       "array([[  69194.],\n",
       "       [  85991.],\n",
       "       [ 104686.],\n",
       "       [ 124665.],\n",
       "       [ 143025.],\n",
       "       [ 164620.],\n",
       "       [ 189618.],\n",
       "       [ 216721.],\n",
       "       [ 245540.],\n",
       "       [ 277965.],\n",
       "       [ 312237.],\n",
       "       [ 337635.],\n",
       "       [ 368196.],\n",
       "       [ 398809.],\n",
       "       [ 432132.],\n",
       "       [ 466033.],\n",
       "       [ 501560.],\n",
       "       [ 529951.],\n",
       "       [ 557571.],\n",
       "       [ 582594.],\n",
       "       [ 609516.],\n",
       "       [ 639664.],\n",
       "       [ 671331.],\n",
       "       [ 702164.],\n",
       "       [ 735086.],\n",
       "       [ 759687.],\n",
       "       [ 787752.],\n",
       "       [ 825041.],\n",
       "       [ 842629.],\n",
       "       [ 869172.],\n",
       "       [ 890524.],\n",
       "       [ 939053.],\n",
       "       [ 965910.],\n",
       "       [ 988451.],\n",
       "       [1012583.]], dtype=float32)"
      ]
     },
     "execution_count": 14,
     "metadata": {},
     "output_type": "execute_result"
    }
   ],
   "source": [
    "testY"
   ]
  },
  {
   "cell_type": "code",
   "execution_count": 15,
   "metadata": {},
   "outputs": [
    {
     "data": {
      "text/plain": [
       "array([[ 4641.329 ],\n",
       "       [ 4998.4097],\n",
       "       [ 5634.416 ],\n",
       "       [ 6411.3037],\n",
       "       [ 7199.03  ],\n",
       "       [ 7938.796 ],\n",
       "       [ 8827.984 ],\n",
       "       [ 9867.428 ],\n",
       "       [10984.036 ],\n",
       "       [12135.846 ],\n",
       "       [13404.681 ],\n",
       "       [14748.587 ],\n",
       "       [15731.809 ],\n",
       "       [16890.365 ],\n",
       "       [18032.293 ],\n",
       "       [19271.625 ],\n",
       "       [20520.244 ],\n",
       "       [21819.46  ],\n",
       "       [22857.842 ],\n",
       "       [23868.13  ],\n",
       "       [24784.732 ],\n",
       "       [25773.947 ],\n",
       "       [26894.662 ],\n",
       "       [28074.207 ],\n",
       "       [29222.863 ],\n",
       "       [30444.98  ],\n",
       "       [31358.238 ],\n",
       "       [32400.207 ],\n",
       "       [33784.848 ],\n",
       "       [34438.023 ],\n",
       "       [35423.85  ],\n",
       "       [36216.98  ],\n",
       "       [38019.88  ],\n",
       "       [39017.81  ],\n",
       "       [39855.46  ]], dtype=float32)"
      ]
     },
     "execution_count": 15,
     "metadata": {},
     "output_type": "execute_result"
    }
   ],
   "source": [
    "testPredict"
   ]
  },
  {
   "cell_type": "code",
   "execution_count": 16,
   "metadata": {},
   "outputs": [
    {
     "name": "stdout",
     "output_type": "stream",
     "text": [
      "502737.44\n",
      "332169250000.0\n",
      "576341.25\n"
     ]
    }
   ],
   "source": [
    "from sklearn.metrics import mean_absolute_error\n",
    "from sklearn.metrics import mean_squared_error\n",
    "MAE = mean_absolute_error(testY, testPredict)\n",
    "MSE = mean_squared_error(testY, testPredict)\n",
    "RMSE = np.sqrt(MSE)\n",
    "print(MAE)\n",
    "print(MSE)\n",
    "print(RMSE)"
   ]
  },
  {
   "cell_type": "code",
   "execution_count": 17,
   "metadata": {},
   "outputs": [
    {
     "data": {
      "text/plain": [
       "(122, 1)"
      ]
     },
     "execution_count": 17,
     "metadata": {},
     "output_type": "execute_result"
    }
   ],
   "source": [
    "from sklearn.preprocessing import MinMaxScaler\n",
    "dataset = data['total'].values\n",
    "dataset = dataset.astype('float32')\n",
    "dataset = dataset.reshape(-1,1)\n",
    "scaler = MinMaxScaler(feature_range=(0,1))\n",
    "dataset = scaler.fit_transform(dataset)\n",
    "dataset.shape"
   ]
  },
  {
   "cell_type": "code",
   "execution_count": 18,
   "metadata": {},
   "outputs": [],
   "source": [
    "train_size = int(len(dataset) * 0.7)\n",
    "test_size = len(dataset) - train_size\n",
    "train, test = dataset[0:train_size,:], dataset[train_size:len(dataset),:]"
   ]
  },
  {
   "cell_type": "code",
   "execution_count": 19,
   "metadata": {},
   "outputs": [],
   "source": [
    "look_back = 7\n",
    "trainX, trainY = create_dataset(train, look_back)\n",
    "testX, testY = create_dataset(test, look_back)"
   ]
  },
  {
   "cell_type": "code",
   "execution_count": 20,
   "metadata": {},
   "outputs": [
    {
     "name": "stdout",
     "output_type": "stream",
     "text": [
      "Epoch 1/20\n",
      "WARNING:tensorflow:Model was constructed with shape (None, 1, 7) for input Tensor(\"dense_1_input:0\", shape=(None, 1, 7), dtype=float32), but it was called on an input with incompatible shape (None, 7).\n",
      "WARNING:tensorflow:Model was constructed with shape (None, 1, 7) for input Tensor(\"dense_1_input:0\", shape=(None, 1, 7), dtype=float32), but it was called on an input with incompatible shape (None, 7).\n",
      "39/39 - 0s - loss: 3.5496e-05\n",
      "Epoch 2/20\n",
      "39/39 - 0s - loss: 2.5567e-05\n",
      "Epoch 3/20\n",
      "39/39 - 0s - loss: 2.0868e-05\n",
      "Epoch 4/20\n",
      "39/39 - 0s - loss: 2.1377e-05\n",
      "Epoch 5/20\n",
      "39/39 - 0s - loss: 1.8202e-05\n",
      "Epoch 6/20\n",
      "39/39 - 0s - loss: 1.4834e-05\n",
      "Epoch 7/20\n",
      "39/39 - 0s - loss: 1.2764e-05\n",
      "Epoch 8/20\n",
      "39/39 - 0s - loss: 1.4051e-05\n",
      "Epoch 9/20\n",
      "39/39 - 0s - loss: 1.0607e-05\n",
      "Epoch 10/20\n",
      "39/39 - 0s - loss: 6.5479e-06\n",
      "Epoch 11/20\n",
      "39/39 - 0s - loss: 4.5256e-06\n",
      "Epoch 12/20\n",
      "39/39 - 0s - loss: 2.7185e-06\n",
      "Epoch 13/20\n",
      "39/39 - 0s - loss: 1.7949e-06\n",
      "Epoch 14/20\n",
      "39/39 - 0s - loss: 1.2488e-06\n",
      "Epoch 15/20\n",
      "39/39 - 0s - loss: 4.9604e-07\n",
      "Epoch 16/20\n",
      "39/39 - 0s - loss: 3.5165e-07\n",
      "Epoch 17/20\n",
      "39/39 - 0s - loss: 2.6599e-07\n",
      "Epoch 18/20\n",
      "39/39 - 0s - loss: 1.4388e-07\n",
      "Epoch 19/20\n",
      "39/39 - 0s - loss: 1.4728e-07\n",
      "Epoch 20/20\n",
      "39/39 - 0s - loss: 1.0642e-07\n"
     ]
    },
    {
     "data": {
      "text/plain": [
       "<tensorflow.python.keras.callbacks.History at 0x16abbf8c848>"
      ]
     },
     "execution_count": 20,
     "metadata": {},
     "output_type": "execute_result"
    }
   ],
   "source": [
    "ANN_model = Sequential()\n",
    "ANN_model.add(Dense(512, input_shape=(1, look_back), activation='relu'))\n",
    "ANN_model.add(Dense(1))\n",
    "ANN_model.compile(loss='mean_squared_error', optimizer='adam')\n",
    "ANN_model.fit(trainX, trainY, epochs=10, batch_size=2, verbose=2)"
   ]
  },
  {
   "cell_type": "code",
   "execution_count": 21,
   "metadata": {},
   "outputs": [
    {
     "name": "stdout",
     "output_type": "stream",
     "text": [
      "WARNING:tensorflow:Model was constructed with shape (None, 1, 7) for input Tensor(\"dense_1_input:0\", shape=(None, 1, 7), dtype=float32), but it was called on an input with incompatible shape (None, 7).\n"
     ]
    }
   ],
   "source": [
    "trainPredict = ANN_model.predict(trainX)\n",
    "testPredict = ANN_model.predict(testX)\n",
    "trainPredict = trainPredict.reshape(-1,1)\n",
    "testPredict = testPredict.reshape(-1,1)"
   ]
  },
  {
   "cell_type": "code",
   "execution_count": 22,
   "metadata": {},
   "outputs": [],
   "source": [
    "trainPredict = scaler.inverse_transform(trainPredict)\n",
    "testPredict = scaler.inverse_transform(testPredict)\n",
    "dataset = scaler.inverse_transform(dataset)"
   ]
  },
  {
   "cell_type": "code",
   "execution_count": 27,
   "metadata": {},
   "outputs": [
    {
     "data": {
      "image/png": "[encoded data removed]",
      "text/plain": [
       "<Figure size 1152x648 with 1 Axes>"
      ]
     },
     "metadata": {
      "needs_background": "light"
     },
     "output_type": "display_data"
    }
   ],
   "source": [
    "trainPredictPlot = np.empty_like(dataset)\n",
    "trainPredictPlot[:, :] = np.nan\n",
    "trainPredictPlot[look_back:len(trainPredict)+look_back, :] = trainPredict\n",
    "# shift test predictions for plotting\n",
    "testPredictPlot = np.empty_like(dataset)\n",
    "testPredictPlot[:, :] = np.nan\n",
    "testPredictPlot[len(trainPredict)+(look_back*2)+1:len(dataset)-1, :] = testPredict\n",
    "# plot baseline and predictions\n",
    "plt.figure(figsize=(16,9))\n",
    "plt.plot(dataset, color = 'blue')\n",
    "plt.plot(trainPredictPlot, color = 'orange')\n",
    "plt.plot(testPredictPlot, color = 'red')\n",
    "plt.legend(['Original','Train_Predicted','Test_Predicted'])\n",
    "plt.title('The Total positive with Covid-19 following days in US')\n",
    "plt.ylabel('The number of Cases')\n",
    "plt.show()"
   ]
  },
  {
   "cell_type": "code",
   "execution_count": 24,
   "metadata": {},
   "outputs": [],
   "source": [
    "testY =scaler.inverse_transform(testY.reshape(-1,1))"
   ]
  },
  {
   "cell_type": "code",
   "execution_count": 25,
   "metadata": {},
   "outputs": [
    {
     "name": "stdout",
     "output_type": "stream",
     "text": [
      "213867.6\n",
      "64795220000.0\n",
      "254549.06\n"
     ]
    }
   ],
   "source": [
    "from sklearn.metrics import mean_absolute_error\n",
    "from sklearn.metrics import mean_squared_error\n",
    "MAE = mean_absolute_error(testY, testPredict)\n",
    "MSE = mean_squared_error(testY, testPredict)\n",
    "RMSE = np.sqrt(MSE)\n",
    "print(MAE)\n",
    "print(MSE)\n",
    "print(RMSE)"
   ]
  },
  {
   "cell_type": "code",
   "execution_count": null,
   "metadata": {},
   "outputs": [],
   "source": []
  },
  {
   "cell_type": "code",
   "execution_count": null,
   "metadata": {},
   "outputs": [],
   "source": []
  },
  {
   "cell_type": "code",
   "execution_count": null,
   "metadata": {},
   "outputs": [],
   "source": []
  },
  {
   "cell_type": "code",
   "execution_count": null,
   "metadata": {},
   "outputs": [],
   "source": []
  },
  {
   "cell_type": "code",
   "execution_count": null,
   "metadata": {},
   "outputs": [],
   "source": []
  },
  {
   "cell_type": "code",
   "execution_count": null,
   "metadata": {},
   "outputs": [],
   "source": []
  },
  {
   "cell_type": "code",
   "execution_count": null,
   "metadata": {},
   "outputs": [],
   "source": []
  }
 ],
 "metadata": {
  "kernelspec": {
   "display_name": "Python 3",
   "language": "python",
   "name": "python3"
  },
  "language_info": {
   "codemirror_mode": {
    "name": "ipython",
    "version": 3
   },
   "file_extension": ".py",
   "mimetype": "text/x-python",
   "name": "python",
   "nbconvert_exporter": "python",
   "pygments_lexer": "ipython3",
   "version": "3.7.7"
  }
 },
 "nbformat": 4,
 "nbformat_minor": 4
}
