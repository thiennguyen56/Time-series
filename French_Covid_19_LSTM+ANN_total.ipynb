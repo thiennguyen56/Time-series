{
 "cells": [
  {
   "cell_type": "code",
   "execution_count": 26,
   "metadata": {},
   "outputs": [],
   "source": [
    "import numpy as np\n",
    "import pandas as pd\n",
    "import matplotlib.pyplot as plt\n",
    "from datetime import datetime\n",
    "from tensorflow.keras.models import Sequential\n",
    "from tensorflow.keras.layers import Dense,LSTM\n",
    "from sklearn.preprocessing import MinMaxScaler\n"
   ]
  },
  {
   "cell_type": "code",
   "execution_count": 27,
   "metadata": {},
   "outputs": [
    {
     "data": {
      "text/html": [
       "<div>\n",
       "<style scoped>\n",
       "    .dataframe tbody tr th:only-of-type {\n",
       "        vertical-align: middle;\n",
       "    }\n",
       "\n",
       "    .dataframe tbody tr th {\n",
       "        vertical-align: top;\n",
       "    }\n",
       "\n",
       "    .dataframe thead th {\n",
       "        text-align: right;\n",
       "    }\n",
       "</style>\n",
       "<table border=\"1\" class=\"dataframe\">\n",
       "  <thead>\n",
       "    <tr style=\"text-align: right;\">\n",
       "      <th></th>\n",
       "      <th>dateRep</th>\n",
       "      <th>cases</th>\n",
       "      <th>totel</th>\n",
       "    </tr>\n",
       "  </thead>\n",
       "  <tbody>\n",
       "    <tr>\n",
       "      <th>0</th>\n",
       "      <td>2019-12-31</td>\n",
       "      <td>0</td>\n",
       "      <td>0</td>\n",
       "    </tr>\n",
       "    <tr>\n",
       "      <th>1</th>\n",
       "      <td>2020-01-01</td>\n",
       "      <td>0</td>\n",
       "      <td>0</td>\n",
       "    </tr>\n",
       "    <tr>\n",
       "      <th>2</th>\n",
       "      <td>2020-01-02</td>\n",
       "      <td>0</td>\n",
       "      <td>0</td>\n",
       "    </tr>\n",
       "    <tr>\n",
       "      <th>3</th>\n",
       "      <td>2020-01-03</td>\n",
       "      <td>0</td>\n",
       "      <td>0</td>\n",
       "    </tr>\n",
       "    <tr>\n",
       "      <th>4</th>\n",
       "      <td>2020-01-04</td>\n",
       "      <td>0</td>\n",
       "      <td>0</td>\n",
       "    </tr>\n",
       "  </tbody>\n",
       "</table>\n",
       "</div>"
      ],
      "text/plain": [
       "     dateRep  cases  totel\n",
       "0 2019-12-31      0      0\n",
       "1 2020-01-01      0      0\n",
       "2 2020-01-02      0      0\n",
       "3 2020-01-03      0      0\n",
       "4 2020-01-04      0      0"
      ]
     },
     "execution_count": 27,
     "metadata": {},
     "output_type": "execute_result"
    }
   ],
   "source": [
    "data = pd.read_csv('Covid-19_FR.csv', usecols=[1,5,6])\n",
    "data['dateRep'] = pd.to_datetime(data['dateRep'])\n",
    "data.head()"
   ]
  },
  {
   "cell_type": "code",
   "execution_count": 28,
   "metadata": {},
   "outputs": [
    {
     "data": {
      "image/png": "[encoded data removed]",
      "text/plain": [
       "<Figure size 1152x648 with 1 Axes>"
      ]
     },
     "metadata": {
      "needs_background": "light"
     },
     "output_type": "display_data"
    }
   ],
   "source": [
    "plt.figure(figsize=(16,9))\n",
    "x = data['dateRep']\n",
    "y = data['cases']\n",
    "z = data['totel']\n",
    "plt.plot(x,y)\n",
    "plt.plot(x,z)\n",
    "plt.legend(['Cases', 'Total'])\n",
    "plt.show()"
   ]
  },
  {
   "cell_type": "code",
   "execution_count": 29,
   "metadata": {},
   "outputs": [],
   "source": [
    "def create_dataset(dataset, look_back=9):\n",
    "\tdataX, dataY = [], []\n",
    "\tfor i in range(len(dataset)-look_back-1):\n",
    "\t\ta = dataset[i:(i+look_back),0]\n",
    "\t\tdataX.append(a)\n",
    "\t\tdataY.append(dataset[i + look_back,0])\n",
    "\treturn np.array(dataX), np.array(dataY)\n"
   ]
  },
  {
   "cell_type": "code",
   "execution_count": 30,
   "metadata": {},
   "outputs": [
    {
     "data": {
      "text/plain": [
       "(122, 1)"
      ]
     },
     "execution_count": 30,
     "metadata": {},
     "output_type": "execute_result"
    }
   ],
   "source": [
    "from sklearn.preprocessing import MinMaxScaler\n",
    "dataset = data['totel'].values\n",
    "dataset = dataset.astype('float32')\n",
    "dataset = dataset.reshape(-1,1)\n",
    "scaler = MinMaxScaler(feature_range=(0,1))\n",
    "dataset = scaler.fit_transform(dataset)\n",
    "dataset.shape"
   ]
  },
  {
   "cell_type": "code",
   "execution_count": 31,
   "metadata": {},
   "outputs": [],
   "source": [
    "train_size = int(len(dataset) * 0.7)\n",
    "test_size = len(dataset) - train_size\n",
    "train, test = dataset[0:train_size,:], dataset[train_size:len(dataset),:]"
   ]
  },
  {
   "cell_type": "code",
   "execution_count": 32,
   "metadata": {},
   "outputs": [
    {
     "name": "stdout",
     "output_type": "stream",
     "text": [
      "[[0.00000000e+00]\n",
      " [0.00000000e+00]\n",
      " [0.00000000e+00]\n",
      " [0.00000000e+00]\n",
      " [0.00000000e+00]\n",
      " [0.00000000e+00]\n",
      " [0.00000000e+00]\n",
      " [0.00000000e+00]\n",
      " [0.00000000e+00]\n",
      " [0.00000000e+00]\n",
      " [0.00000000e+00]\n",
      " [0.00000000e+00]\n",
      " [0.00000000e+00]\n",
      " [0.00000000e+00]\n",
      " [0.00000000e+00]\n",
      " [0.00000000e+00]\n",
      " [0.00000000e+00]\n",
      " [0.00000000e+00]\n",
      " [0.00000000e+00]\n",
      " [0.00000000e+00]\n",
      " [0.00000000e+00]\n",
      " [0.00000000e+00]\n",
      " [0.00000000e+00]\n",
      " [0.00000000e+00]\n",
      " [0.00000000e+00]\n",
      " [2.33568462e-05]\n",
      " [2.33568462e-05]\n",
      " [2.33568462e-05]\n",
      " [2.33568462e-05]\n",
      " [3.11424628e-05]\n",
      " [3.89280794e-05]\n",
      " [4.67136924e-05]\n",
      " [4.67136924e-05]\n",
      " [4.67136924e-05]\n",
      " [4.67136924e-05]\n",
      " [4.67136924e-05]\n",
      " [4.67136924e-05]\n",
      " [4.67136924e-05]\n",
      " [4.67136924e-05]\n",
      " [8.56417755e-05]\n",
      " [8.56417755e-05]\n",
      " [8.56417755e-05]\n",
      " [8.56417755e-05]\n",
      " [8.56417755e-05]\n",
      " [8.56417755e-05]\n",
      " [8.56417755e-05]\n",
      " [8.56417755e-05]\n",
      " [8.56417755e-05]\n",
      " [9.34273849e-05]\n",
      " [9.34273849e-05]\n",
      " [9.34273849e-05]\n",
      " [9.34273849e-05]\n",
      " [9.34273849e-05]\n",
      " [9.34273849e-05]\n",
      " [9.34273849e-05]\n",
      " [9.34273849e-05]\n",
      " [9.34273849e-05]\n",
      " [1.08998618e-04]\n",
      " [1.32355461e-04]\n",
      " [2.95853388e-04]\n",
      " [4.43780096e-04]\n",
      " [7.78561574e-04]\n",
      " [1.01213006e-03]\n",
      " [1.38583954e-03]\n",
      " [1.65055052e-03]\n",
      " [2.21890048e-03]\n",
      " [3.29331541e-03]\n",
      " [4.77258256e-03]\n",
      " [5.57450065e-03]\n",
      " [8.76660366e-03]\n",
      " [1.09932898e-02]\n",
      " [1.38895381e-02]\n",
      " [1.77589897e-02]\n",
      " [2.23914310e-02]\n",
      " [2.85031386e-02]\n",
      " [3.50274853e-02]\n",
      " [4.22213934e-02]\n",
      " [5.16419895e-02]\n",
      " [6.01828098e-02]\n",
      " [7.11138174e-02]\n",
      " [8.56028423e-02]\n",
      " [9.81921852e-02]\n",
      " [1.12572215e-01]]\n"
     ]
    }
   ],
   "source": [
    "look_back = 1\n",
    "trainX, trainY = create_dataset(train, look_back)\n",
    "testX, testY = create_dataset(test, look_back)\n",
    "print(trainX)"
   ]
  },
  {
   "cell_type": "code",
   "execution_count": 33,
   "metadata": {},
   "outputs": [],
   "source": [
    "trainX = np.reshape(trainX, (trainX.shape[0], 1, trainX.shape[1]))\n",
    "testX = np.reshape(testX, (testX.shape[0], 1, testX.shape[1]))"
   ]
  },
  {
   "cell_type": "code",
   "execution_count": 34,
   "metadata": {},
   "outputs": [
    {
     "name": "stdout",
     "output_type": "stream",
     "text": [
      "Epoch 1/20\n",
      "42/42 - 0s - loss: 5.9744e-04\n",
      "Epoch 2/20\n",
      "42/42 - 0s - loss: 5.5445e-04\n",
      "Epoch 3/20\n",
      "42/42 - 0s - loss: 5.4939e-04\n",
      "Epoch 4/20\n",
      "42/42 - 0s - loss: 4.7477e-04\n",
      "Epoch 5/20\n",
      "42/42 - 0s - loss: 4.4377e-04\n",
      "Epoch 6/20\n",
      "42/42 - 0s - loss: 4.0845e-04\n",
      "Epoch 7/20\n",
      "42/42 - 0s - loss: 3.2204e-04\n",
      "Epoch 8/20\n",
      "42/42 - 0s - loss: 2.5955e-04\n",
      "Epoch 9/20\n",
      "42/42 - 0s - loss: 1.9979e-04\n",
      "Epoch 10/20\n",
      "42/42 - 0s - loss: 1.2371e-04\n",
      "Epoch 11/20\n",
      "42/42 - 0s - loss: 8.8710e-05\n",
      "Epoch 12/20\n",
      "42/42 - 0s - loss: 6.5899e-05\n",
      "Epoch 13/20\n",
      "42/42 - 0s - loss: 2.5325e-05\n",
      "Epoch 14/20\n",
      "42/42 - 0s - loss: 1.4090e-05\n",
      "Epoch 15/20\n",
      "42/42 - 0s - loss: 6.5538e-06\n",
      "Epoch 16/20\n",
      "42/42 - 0s - loss: 3.7618e-06\n",
      "Epoch 17/20\n",
      "42/42 - 0s - loss: 1.6855e-06\n",
      "Epoch 18/20\n",
      "42/42 - 0s - loss: 1.6136e-06\n",
      "Epoch 19/20\n",
      "42/42 - 0s - loss: 1.6267e-06\n",
      "Epoch 20/20\n",
      "42/42 - 0s - loss: 1.4262e-06\n"
     ]
    },
    {
     "data": {
      "text/plain": [
       "<tensorflow.python.keras.callbacks.History at 0x1ba15be7dc8>"
      ]
     },
     "execution_count": 34,
     "metadata": {},
     "output_type": "execute_result"
    }
   ],
   "source": [
    "model = Sequential()\n",
    "model.add(LSTM(256, input_shape=(1, look_back), activation='relu'))\n",
    "model.add(Dense(1))\n",
    "model.compile(loss='mean_squared_error', optimizer='adam')\n",
    "model.fit(trainX, trainY, epochs=20, batch_size=2, verbose=2)"
   ]
  },
  {
   "cell_type": "code",
   "execution_count": 35,
   "metadata": {},
   "outputs": [],
   "source": [
    "trainPredict = model.predict(trainX)\n",
    "testPredict = model.predict(testX)\n",
    "trainPredict = trainPredict.reshape(-1,1)\n",
    "testPredict = testPredict.reshape(-1,1)\n",
    "#trainPredict = scaler.inverse_transform(trainPredict)\n",
    "#testPredict = scaler.inverse_transform(testPredict)\n",
    "#dataset = scaler.inverse_transform(dataset)"
   ]
  },
  {
   "cell_type": "code",
   "execution_count": 36,
   "metadata": {},
   "outputs": [],
   "source": [
    "trainPredict = scaler.inverse_transform(trainPredict)\n",
    "testPredict = scaler.inverse_transform(testPredict)\n",
    "dataset = scaler.inverse_transform(dataset)"
   ]
  },
  {
   "cell_type": "code",
   "execution_count": 37,
   "metadata": {},
   "outputs": [
    {
     "data": {
      "image/png": "[encoded data removed]",
      "text/plain": [
       "<Figure size 1152x648 with 1 Axes>"
      ]
     },
     "metadata": {
      "needs_background": "light"
     },
     "output_type": "display_data"
    }
   ],
   "source": [
    "# shift train predictions for plotting\n",
    "trainPredictPlot = np.empty_like(dataset)\n",
    "trainPredictPlot[:, :] = np.nan\n",
    "trainPredictPlot[look_back:len(trainPredict)+look_back, :] = trainPredict\n",
    "# shift test predictions for plotting\n",
    "testPredictPlot = np.empty_like(dataset)\n",
    "testPredictPlot[:, :] = np.nan\n",
    "testPredictPlot[len(trainPredict)+(look_back*2)+1:len(dataset)-1, :] = testPredict\n",
    "# plot baseline and predictions\n",
    "plt.figure(figsize=(16,9))\n",
    "plt.plot(dataset, color = 'blue')\n",
    "plt.plot(trainPredictPlot, color = 'orange')\n",
    "plt.plot(testPredictPlot, color = 'red')\n",
    "plt.legend(['Original','Train_Predicted','Test_Predicted'])\n",
    "plt.title('The Total positive with Covid-19 following days ')\n",
    "plt.ylabel('The number of People')\n",
    "plt.show()"
   ]
  },
  {
   "cell_type": "code",
   "execution_count": 38,
   "metadata": {},
   "outputs": [],
   "source": [
    "testY =scaler.inverse_transform(testY.reshape(-1,1))"
   ]
  },
  {
   "cell_type": "code",
   "execution_count": 39,
   "metadata": {},
   "outputs": [
    {
     "data": {
      "text/plain": [
       "array([[ 25233.],\n",
       "       [ 29155.],\n",
       "       [ 32964.],\n",
       "       [ 37575.],\n",
       "       [ 40174.],\n",
       "       [ 44550.],\n",
       "       [ 52128.],\n",
       "       [ 56989.],\n",
       "       [ 59105.],\n",
       "       [ 64338.],\n",
       "       [ 68605.],\n",
       "       [ 70478.],\n",
       "       [ 74390.],\n",
       "       [ 78167.],\n",
       "       [ 82048.],\n",
       "       [ 86334.],\n",
       "       [ 90676.],\n",
       "       [ 93790.],\n",
       "       [ 95403.],\n",
       "       [ 98076.],\n",
       "       [103573.],\n",
       "       [106206.],\n",
       "       [108847.],\n",
       "       [109252.],\n",
       "       [111821.],\n",
       "       [112606.],\n",
       "       [114657.],\n",
       "       [117324.],\n",
       "       [119151.],\n",
       "       [120804.],\n",
       "       [122577.],\n",
       "       [124114.],\n",
       "       [124575.],\n",
       "       [125770.],\n",
       "       [126835.]], dtype=float32)"
      ]
     },
     "execution_count": 39,
     "metadata": {},
     "output_type": "execute_result"
    }
   ],
   "source": [
    "testY"
   ]
  },
  {
   "cell_type": "code",
   "execution_count": 40,
   "metadata": {},
   "outputs": [
    {
     "data": {
      "text/plain": [
       "array([[ 25909.607],\n",
       "       [ 29330.395],\n",
       "       [ 33914.35 ],\n",
       "       [ 38389.984],\n",
       "       [ 43831.383],\n",
       "       [ 46913.625],\n",
       "       [ 52136.906],\n",
       "       [ 61281.586],\n",
       "       [ 67216.914],\n",
       "       [ 69816.875],\n",
       "       [ 76289.086],\n",
       "       [ 81612.89 ],\n",
       "       [ 83963.17 ],\n",
       "       [ 88898.234],\n",
       "       [ 93696.76 ],\n",
       "       [ 98662.195],\n",
       "       [104186.01 ],\n",
       "       [109825.75 ],\n",
       "       [113897.76 ],\n",
       "       [116015.95 ],\n",
       "       [119539.66 ],\n",
       "       [126839.11 ],\n",
       "       [130360.75 ],\n",
       "       [133909.56 ],\n",
       "       [134455.25 ],\n",
       "       [137925.61 ],\n",
       "       [138989.16 ],\n",
       "       [141774.83 ],\n",
       "       [145412.1  ],\n",
       "       [147913.5  ],\n",
       "       [150183.52 ],\n",
       "       [152625.55 ],\n",
       "       [154748.56 ],\n",
       "       [155386.44 ],\n",
       "       [157042.27 ]], dtype=float32)"
      ]
     },
     "execution_count": 40,
     "metadata": {},
     "output_type": "execute_result"
    }
   ],
   "source": [
    "testPredict"
   ]
  },
  {
   "cell_type": "code",
   "execution_count": 41,
   "metadata": {},
   "outputs": [
    {
     "name": "stdout",
     "output_type": "stream",
     "text": [
      "15274.436\n",
      "334593820.0\n",
      "18291.906\n"
     ]
    }
   ],
   "source": [
    "from sklearn.metrics import mean_absolute_error\n",
    "from sklearn.metrics import mean_squared_error\n",
    "MAE = mean_absolute_error(testY, testPredict)\n",
    "MSE = mean_squared_error(testY, testPredict)\n",
    "RMSE = np.sqrt(MSE)\n",
    "print(MAE)\n",
    "print(MSE)\n",
    "print(RMSE)"
   ]
  },
  {
   "cell_type": "code",
   "execution_count": 42,
   "metadata": {},
   "outputs": [
    {
     "data": {
      "text/plain": [
       "(122, 1)"
      ]
     },
     "execution_count": 42,
     "metadata": {},
     "output_type": "execute_result"
    }
   ],
   "source": [
    "from sklearn.preprocessing import MinMaxScaler\n",
    "dataset = data['totel'].values\n",
    "dataset = dataset.astype('float32')\n",
    "dataset = dataset.reshape(-1,1)\n",
    "scaler = MinMaxScaler(feature_range=(0,1))\n",
    "dataset = scaler.fit_transform(dataset)\n",
    "dataset.shape"
   ]
  },
  {
   "cell_type": "code",
   "execution_count": 43,
   "metadata": {},
   "outputs": [],
   "source": [
    "train_size = int(len(dataset) * 0.7)\n",
    "test_size = len(dataset) - train_size\n",
    "train, test = dataset[0:train_size,:], dataset[train_size:len(dataset),:]"
   ]
  },
  {
   "cell_type": "code",
   "execution_count": 44,
   "metadata": {},
   "outputs": [],
   "source": [
    "look_back = 7\n",
    "trainX, trainY = create_dataset(train, look_back)\n",
    "testX, testY = create_dataset(test, look_back)"
   ]
  },
  {
   "cell_type": "code",
   "execution_count": 45,
   "metadata": {},
   "outputs": [
    {
     "name": "stdout",
     "output_type": "stream",
     "text": [
      "Epoch 1/20\n",
      "WARNING:tensorflow:Model was constructed with shape (None, 1, 7) for input Tensor(\"dense_4_input:0\", shape=(None, 1, 7), dtype=float32), but it was called on an input with incompatible shape (None, 7).\n",
      "WARNING:tensorflow:Model was constructed with shape (None, 1, 7) for input Tensor(\"dense_4_input:0\", shape=(None, 1, 7), dtype=float32), but it was called on an input with incompatible shape (None, 7).\n",
      "39/39 - 0s - loss: 2.4378e-04\n",
      "Epoch 2/20\n",
      "39/39 - 0s - loss: 9.4739e-06\n",
      "Epoch 3/20\n",
      "39/39 - 0s - loss: 4.3364e-06\n",
      "Epoch 4/20\n",
      "39/39 - 0s - loss: 6.1381e-06\n",
      "Epoch 5/20\n",
      "39/39 - 0s - loss: 5.6962e-06\n",
      "Epoch 6/20\n",
      "39/39 - 0s - loss: 6.3708e-06\n",
      "Epoch 7/20\n",
      "39/39 - 0s - loss: 4.2974e-06\n",
      "Epoch 8/20\n",
      "39/39 - 0s - loss: 3.4537e-06\n",
      "Epoch 9/20\n",
      "39/39 - 0s - loss: 2.3540e-06\n",
      "Epoch 10/20\n",
      "39/39 - 0s - loss: 1.3805e-06\n",
      "Epoch 11/20\n",
      "39/39 - 0s - loss: 2.0359e-06\n",
      "Epoch 12/20\n",
      "39/39 - 0s - loss: 2.4653e-06\n",
      "Epoch 13/20\n",
      "39/39 - 0s - loss: 1.6124e-06\n",
      "Epoch 14/20\n",
      "39/39 - 0s - loss: 1.1205e-06\n",
      "Epoch 15/20\n",
      "39/39 - 0s - loss: 9.6691e-07\n",
      "Epoch 16/20\n",
      "39/39 - 0s - loss: 9.9973e-07\n",
      "Epoch 17/20\n",
      "39/39 - 0s - loss: 2.2676e-06\n",
      "Epoch 18/20\n",
      "39/39 - 0s - loss: 1.1001e-05\n",
      "Epoch 19/20\n",
      "39/39 - 0s - loss: 3.0629e-06\n",
      "Epoch 20/20\n",
      "39/39 - 0s - loss: 1.1332e-06\n"
     ]
    },
    {
     "data": {
      "text/plain": [
       "<tensorflow.python.keras.callbacks.History at 0x1ba1902dbc8>"
      ]
     },
     "execution_count": 45,
     "metadata": {},
     "output_type": "execute_result"
    }
   ],
   "source": [
    "ANN_model = Sequential()\n",
    "ANN_model.add(Dense(512, input_shape=(1, look_back), activation='relu'))\n",
    "ANN_model.add(Dense(1))\n",
    "ANN_model.compile(loss='mean_squared_error', optimizer='adam')\n",
    "ANN_model.fit(trainX, trainY, epochs=20, batch_size=2, verbose=2)"
   ]
  },
  {
   "cell_type": "code",
   "execution_count": 46,
   "metadata": {},
   "outputs": [
    {
     "name": "stdout",
     "output_type": "stream",
     "text": [
      "WARNING:tensorflow:Model was constructed with shape (None, 1, 7) for input Tensor(\"dense_4_input:0\", shape=(None, 1, 7), dtype=float32), but it was called on an input with incompatible shape (None, 7).\n"
     ]
    }
   ],
   "source": [
    "trainPredict = ANN_model.predict(trainX)\n",
    "testPredict = ANN_model.predict(testX)\n",
    "trainPredict = trainPredict.reshape(-1,1)\n",
    "testPredict = testPredict.reshape(-1,1)"
   ]
  },
  {
   "cell_type": "code",
   "execution_count": 47,
   "metadata": {},
   "outputs": [],
   "source": [
    "trainPredict = scaler.inverse_transform(trainPredict)\n",
    "testPredict = scaler.inverse_transform(testPredict)\n",
    "dataset = scaler.inverse_transform(dataset)"
   ]
  },
  {
   "cell_type": "code",
   "execution_count": 48,
   "metadata": {},
   "outputs": [
    {
     "data": {
      "image/png": "[encoded data removed]",
      "text/plain": [
       "<Figure size 1152x648 with 1 Axes>"
      ]
     },
     "metadata": {
      "needs_background": "light"
     },
     "output_type": "display_data"
    }
   ],
   "source": [
    "trainPredictPlot = np.empty_like(dataset)\n",
    "trainPredictPlot[:, :] = np.nan\n",
    "trainPredictPlot[look_back:len(trainPredict)+look_back, :] = trainPredict\n",
    "# shift test predictions for plotting\n",
    "testPredictPlot = np.empty_like(dataset)\n",
    "testPredictPlot[:, :] = np.nan\n",
    "testPredictPlot[len(trainPredict)+(look_back*2)+1:len(dataset)-1, :] = testPredict\n",
    "# plot baseline and predictions\n",
    "plt.figure(figsize=(16,9))\n",
    "plt.plot(dataset, color = 'blue')\n",
    "plt.plot(trainPredictPlot, color = 'orange')\n",
    "plt.plot(testPredictPlot, color = 'red')\n",
    "plt.legend(['Original','Train_Predicted','Test_Predicted'])\n",
    "plt.title('The Cases positive with Covid-19 following days ')\n",
    "plt.ylabel('Cases')\n",
    "plt.show()"
   ]
  },
  {
   "cell_type": "code",
   "execution_count": 49,
   "metadata": {},
   "outputs": [],
   "source": [
    "testY =scaler.inverse_transform(testY.reshape(-1,1))"
   ]
  },
  {
   "cell_type": "code",
   "execution_count": 50,
   "metadata": {},
   "outputs": [
    {
     "name": "stdout",
     "output_type": "stream",
     "text": [
      "5674.55\n",
      "47352916.0\n",
      "6881.3457\n"
     ]
    }
   ],
   "source": [
    "from sklearn.metrics import mean_absolute_error\n",
    "from sklearn.metrics import mean_squared_error\n",
    "MAE = mean_absolute_error(testY, testPredict)\n",
    "MSE = mean_squared_error(testY, testPredict)\n",
    "RMSE = np.sqrt(MSE)\n",
    "print(MAE)\n",
    "print(MSE)\n",
    "print(RMSE)"
   ]
  },
  {
   "cell_type": "code",
   "execution_count": null,
   "metadata": {},
   "outputs": [],
   "source": []
  },
  {
   "cell_type": "code",
   "execution_count": null,
   "metadata": {},
   "outputs": [],
   "source": []
  },
  {
   "cell_type": "code",
   "execution_count": null,
   "metadata": {},
   "outputs": [],
   "source": []
  },
  {
   "cell_type": "code",
   "execution_count": null,
   "metadata": {},
   "outputs": [],
   "source": []
  },
  {
   "cell_type": "code",
   "execution_count": null,
   "metadata": {},
   "outputs": [],
   "source": []
  }
 ],
 "metadata": {
  "kernelspec": {
   "display_name": "Python 3",
   "language": "python",
   "name": "python3"
  },
  "language_info": {
   "codemirror_mode": {
    "name": "ipython",
    "version": 3
   },
   "file_extension": ".py",
   "mimetype": "text/x-python",
   "name": "python",
   "nbconvert_exporter": "python",
   "pygments_lexer": "ipython3",
   "version": "3.7.7"
  }
 },
 "nbformat": 4,
 "nbformat_minor": 4
}
