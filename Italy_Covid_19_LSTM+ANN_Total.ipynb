{
 "cells": [
  {
   "cell_type": "code",
   "execution_count": 1,
   "metadata": {},
   "outputs": [],
   "source": [
    "import numpy as np\n",
    "import pandas as pd\n",
    "import matplotlib.pyplot as plt\n",
    "from datetime import datetime\n",
    "from tensorflow.keras.models import Sequential\n",
    "from tensorflow.keras.layers import Dense,LSTM\n",
    "from sklearn.preprocessing import MinMaxScaler\n"
   ]
  },
  {
   "cell_type": "code",
   "execution_count": 2,
   "metadata": {},
   "outputs": [
    {
     "data": {
      "text/html": [
       "<div>\n",
       "<style scoped>\n",
       "    .dataframe tbody tr th:only-of-type {\n",
       "        vertical-align: middle;\n",
       "    }\n",
       "\n",
       "    .dataframe tbody tr th {\n",
       "        vertical-align: top;\n",
       "    }\n",
       "\n",
       "    .dataframe thead th {\n",
       "        text-align: right;\n",
       "    }\n",
       "</style>\n",
       "<table border=\"1\" class=\"dataframe\">\n",
       "  <thead>\n",
       "    <tr style=\"text-align: right;\">\n",
       "      <th></th>\n",
       "      <th>dateRep</th>\n",
       "      <th>cases</th>\n",
       "      <th>total</th>\n",
       "    </tr>\n",
       "  </thead>\n",
       "  <tbody>\n",
       "    <tr>\n",
       "      <th>0</th>\n",
       "      <td>2019-12-31</td>\n",
       "      <td>0</td>\n",
       "      <td>0</td>\n",
       "    </tr>\n",
       "    <tr>\n",
       "      <th>1</th>\n",
       "      <td>2020-01-01</td>\n",
       "      <td>0</td>\n",
       "      <td>0</td>\n",
       "    </tr>\n",
       "    <tr>\n",
       "      <th>2</th>\n",
       "      <td>2020-01-02</td>\n",
       "      <td>0</td>\n",
       "      <td>0</td>\n",
       "    </tr>\n",
       "    <tr>\n",
       "      <th>3</th>\n",
       "      <td>2020-01-03</td>\n",
       "      <td>0</td>\n",
       "      <td>0</td>\n",
       "    </tr>\n",
       "    <tr>\n",
       "      <th>4</th>\n",
       "      <td>2020-01-04</td>\n",
       "      <td>0</td>\n",
       "      <td>0</td>\n",
       "    </tr>\n",
       "  </tbody>\n",
       "</table>\n",
       "</div>"
      ],
      "text/plain": [
       "     dateRep  cases  total\n",
       "0 2019-12-31      0      0\n",
       "1 2020-01-01      0      0\n",
       "2 2020-01-02      0      0\n",
       "3 2020-01-03      0      0\n",
       "4 2020-01-04      0      0"
      ]
     },
     "execution_count": 2,
     "metadata": {},
     "output_type": "execute_result"
    }
   ],
   "source": [
    "data = pd.read_csv('Covid-19_IT.csv', usecols=[1,5,6])\n",
    "data['dateRep'] = pd.to_datetime(data['dateRep'])\n",
    "data.head()"
   ]
  },
  {
   "cell_type": "code",
   "execution_count": 3,
   "metadata": {},
   "outputs": [
    {
     "data": {
      "image/png": "[encoded data removed]",
      "text/plain": [
       "<Figure size 1152x648 with 1 Axes>"
      ]
     },
     "metadata": {
      "needs_background": "light"
     },
     "output_type": "display_data"
    }
   ],
   "source": [
    "plt.figure(figsize=(16,9))\n",
    "x = data['dateRep']\n",
    "y = data['cases']\n",
    "z = data['total']\n",
    "plt.plot(x,y)\n",
    "plt.plot(x,z)\n",
    "plt.legend(['Cases', 'Total'])\n",
    "plt.show()"
   ]
  },
  {
   "cell_type": "code",
   "execution_count": 4,
   "metadata": {},
   "outputs": [],
   "source": [
    "def create_dataset(dataset, look_back=9):\n",
    "\tdataX, dataY = [], []\n",
    "\tfor i in range(len(dataset)-look_back-1):\n",
    "\t\ta = dataset[i:(i+look_back),0]\n",
    "\t\tdataX.append(a)\n",
    "\t\tdataY.append(dataset[i + look_back,0])\n",
    "\treturn np.array(dataX), np.array(dataY)\n"
   ]
  },
  {
   "cell_type": "code",
   "execution_count": 5,
   "metadata": {},
   "outputs": [
    {
     "data": {
      "text/plain": [
       "(122, 1)"
      ]
     },
     "execution_count": 5,
     "metadata": {},
     "output_type": "execute_result"
    }
   ],
   "source": [
    "from sklearn.preprocessing import MinMaxScaler\n",
    "dataset = data['total'].values\n",
    "dataset = dataset.astype('float32')\n",
    "dataset = dataset.reshape(-1,1)\n",
    "scaler = MinMaxScaler(feature_range=(0,1))\n",
    "dataset = scaler.fit_transform(dataset)\n",
    "dataset.shape"
   ]
  },
  {
   "cell_type": "code",
   "execution_count": 6,
   "metadata": {},
   "outputs": [],
   "source": [
    "train_size = int(len(dataset) * 0.7)\n",
    "test_size = len(dataset) - train_size\n",
    "train, test = dataset[0:train_size,:], dataset[train_size:len(dataset),:]"
   ]
  },
  {
   "cell_type": "code",
   "execution_count": 7,
   "metadata": {},
   "outputs": [
    {
     "name": "stdout",
     "output_type": "stream",
     "text": [
      "[[0.00000000e+00]\n",
      " [0.00000000e+00]\n",
      " [0.00000000e+00]\n",
      " [0.00000000e+00]\n",
      " [0.00000000e+00]\n",
      " [0.00000000e+00]\n",
      " [0.00000000e+00]\n",
      " [0.00000000e+00]\n",
      " [0.00000000e+00]\n",
      " [0.00000000e+00]\n",
      " [0.00000000e+00]\n",
      " [0.00000000e+00]\n",
      " [0.00000000e+00]\n",
      " [0.00000000e+00]\n",
      " [0.00000000e+00]\n",
      " [0.00000000e+00]\n",
      " [0.00000000e+00]\n",
      " [0.00000000e+00]\n",
      " [0.00000000e+00]\n",
      " [0.00000000e+00]\n",
      " [0.00000000e+00]\n",
      " [0.00000000e+00]\n",
      " [0.00000000e+00]\n",
      " [0.00000000e+00]\n",
      " [0.00000000e+00]\n",
      " [0.00000000e+00]\n",
      " [0.00000000e+00]\n",
      " [0.00000000e+00]\n",
      " [0.00000000e+00]\n",
      " [0.00000000e+00]\n",
      " [0.00000000e+00]\n",
      " [1.47354258e-05]\n",
      " [1.47354258e-05]\n",
      " [1.47354258e-05]\n",
      " [1.47354258e-05]\n",
      " [1.47354258e-05]\n",
      " [1.47354258e-05]\n",
      " [1.47354258e-05]\n",
      " [1.47354258e-05]\n",
      " [1.47354258e-05]\n",
      " [1.47354258e-05]\n",
      " [1.47354258e-05]\n",
      " [1.47354258e-05]\n",
      " [1.47354258e-05]\n",
      " [1.47354258e-05]\n",
      " [1.47354258e-05]\n",
      " [1.47354258e-05]\n",
      " [1.47354258e-05]\n",
      " [1.47354258e-05]\n",
      " [1.47354258e-05]\n",
      " [1.47354258e-05]\n",
      " [1.47354258e-05]\n",
      " [1.47354258e-05]\n",
      " [8.35007449e-05]\n",
      " [3.88032873e-04]\n",
      " [6.48358720e-04]\n",
      " [1.12480414e-03]\n",
      " [1.58160226e-03]\n",
      " [1.96472346e-03]\n",
      " [3.19267553e-03]\n",
      " [4.36168583e-03]\n",
      " [5.54051995e-03]\n",
      " [8.29604454e-03]\n",
      " [1.00004422e-02]\n",
      " [1.22893443e-02]\n",
      " [1.51725765e-02]\n",
      " [1.89497564e-02]\n",
      " [2.27711443e-02]\n",
      " [2.88961697e-02]\n",
      " [3.62245888e-02]\n",
      " [4.50511053e-02]\n",
      " [4.98499423e-02]\n",
      " [6.12109564e-02]\n",
      " [7.42321610e-02]\n",
      " [8.67425352e-02]\n",
      " [1.03919134e-01]\n",
      " [1.17785163e-01]\n",
      " [1.37432396e-01]\n",
      " [1.54751435e-01]\n",
      " [1.75415412e-01]\n",
      " [2.01556057e-01]\n",
      " [2.30958149e-01]\n",
      " [2.63164878e-01]]\n"
     ]
    }
   ],
   "source": [
    "look_back = 1\n",
    "trainX, trainY = create_dataset(train, look_back)\n",
    "testX, testY = create_dataset(test, look_back)\n",
    "print(trainX)"
   ]
  },
  {
   "cell_type": "code",
   "execution_count": 8,
   "metadata": {},
   "outputs": [],
   "source": [
    "trainX = np.reshape(trainX, (trainX.shape[0], 1, trainX.shape[1]))\n",
    "testX = np.reshape(testX, (testX.shape[0], 1, testX.shape[1]))"
   ]
  },
  {
   "cell_type": "code",
   "execution_count": 9,
   "metadata": {},
   "outputs": [
    {
     "name": "stdout",
     "output_type": "stream",
     "text": [
      "Epoch 1/15\n",
      "42/42 - 0s - loss: 0.0040\n",
      "Epoch 2/15\n",
      "42/42 - 0s - loss: 0.0033\n",
      "Epoch 3/15\n",
      "42/42 - 0s - loss: 0.0032\n",
      "Epoch 4/15\n",
      "42/42 - 0s - loss: 0.0030\n",
      "Epoch 5/15\n",
      "42/42 - 0s - loss: 0.0027\n",
      "Epoch 6/15\n",
      "42/42 - 0s - loss: 0.0026\n",
      "Epoch 7/15\n",
      "42/42 - 0s - loss: 0.0022\n",
      "Epoch 8/15\n",
      "42/42 - 0s - loss: 0.0018\n",
      "Epoch 9/15\n",
      "42/42 - 0s - loss: 0.0016\n",
      "Epoch 10/15\n",
      "42/42 - 0s - loss: 0.0011\n",
      "Epoch 11/15\n",
      "42/42 - 0s - loss: 9.5088e-04\n",
      "Epoch 12/15\n",
      "42/42 - 0s - loss: 5.3592e-04\n",
      "Epoch 13/15\n",
      "42/42 - 0s - loss: 4.4559e-04\n",
      "Epoch 14/15\n",
      "42/42 - 0s - loss: 2.4313e-04\n",
      "Epoch 15/15\n",
      "42/42 - 0s - loss: 1.4157e-04\n"
     ]
    },
    {
     "data": {
      "text/plain": [
       "<tensorflow.python.keras.callbacks.History at 0x26a6bc64a48>"
      ]
     },
     "execution_count": 9,
     "metadata": {},
     "output_type": "execute_result"
    }
   ],
   "source": [
    "from tensorflow.keras.layers import Dropout\n",
    "model = Sequential()\n",
    "model.add(LSTM(256, input_shape=(1, look_back), activation='relu'))\n",
    "model.add(Dropout(0.3))\n",
    "model.add(Dense(1))\n",
    "model.compile(loss='mean_squared_error', optimizer='adam')\n",
    "model.fit(trainX, trainY, epochs=15, batch_size=2, verbose=2)"
   ]
  },
  {
   "cell_type": "code",
   "execution_count": 10,
   "metadata": {},
   "outputs": [],
   "source": [
    "trainPredict = model.predict(trainX)\n",
    "testPredict = model.predict(testX)\n",
    "trainPredict = trainPredict.reshape(-1,1)\n",
    "testPredict = testPredict.reshape(-1,1)\n",
    "#trainPredict = scaler.inverse_transform(trainPredict)\n",
    "#testPredict = scaler.inverse_transform(testPredict)\n",
    "#dataset = scaler.inverse_transform(dataset)"
   ]
  },
  {
   "cell_type": "code",
   "execution_count": 11,
   "metadata": {},
   "outputs": [],
   "source": [
    "trainPredict = scaler.inverse_transform(trainPredict)\n",
    "testPredict = scaler.inverse_transform(testPredict)\n",
    "dataset = scaler.inverse_transform(dataset)"
   ]
  },
  {
   "cell_type": "code",
   "execution_count": 12,
   "metadata": {},
   "outputs": [
    {
     "data": {
      "image/png": "[encoded data removed]",
      "text/plain": [
       "<Figure size 1152x648 with 1 Axes>"
      ]
     },
     "metadata": {
      "needs_background": "light"
     },
     "output_type": "display_data"
    }
   ],
   "source": [
    "# shift train predictions for plotting\n",
    "trainPredictPlot = np.empty_like(dataset)\n",
    "trainPredictPlot[:, :] = np.nan\n",
    "trainPredictPlot[look_back:len(trainPredict)+look_back, :] = trainPredict\n",
    "# shift test predictions for plotting\n",
    "testPredictPlot = np.empty_like(dataset)\n",
    "testPredictPlot[:, :] = np.nan\n",
    "testPredictPlot[len(trainPredict)+(look_back*2)+1:len(dataset)-1, :] = testPredict\n",
    "# plot baseline and predictions\n",
    "plt.figure(figsize=(16,9))\n",
    "plt.plot(dataset, color = 'blue')\n",
    "plt.plot(trainPredictPlot, color = 'orange')\n",
    "plt.plot(testPredictPlot, color = 'red')\n",
    "plt.legend(['Original','Train_Predicted','Test_Predicted'])\n",
    "plt.title('The Total positive with Covid-19 following days in Italy')\n",
    "plt.ylabel('The number of People')\n",
    "plt.show()"
   ]
  },
  {
   "cell_type": "code",
   "execution_count": 13,
   "metadata": {},
   "outputs": [],
   "source": [
    "testY =scaler.inverse_transform(testY.reshape(-1,1))"
   ]
  },
  {
   "cell_type": "code",
   "execution_count": 14,
   "metadata": {},
   "outputs": [
    {
     "data": {
      "text/plain": [
       "array([[ 74386.  ],\n",
       "       [ 80539.  ],\n",
       "       [ 86498.  ],\n",
       "       [ 92472.  ],\n",
       "       [ 97689.  ],\n",
       "       [101739.  ],\n",
       "       [105791.99],\n",
       "       [110574.  ],\n",
       "       [115242.01],\n",
       "       [119827.  ],\n",
       "       [124631.99],\n",
       "       [128948.01],\n",
       "       [132547.  ],\n",
       "       [135586.  ],\n",
       "       [139422.  ],\n",
       "       [143626.  ],\n",
       "       [147577.  ],\n",
       "       [152271.  ],\n",
       "       [156363.  ],\n",
       "       [159516.  ],\n",
       "       [162488.  ],\n",
       "       [165155.  ],\n",
       "       [168941.  ],\n",
       "       [172434.  ],\n",
       "       [175925.  ],\n",
       "       [178972.  ],\n",
       "       [181228.  ],\n",
       "       [183957.  ],\n",
       "       [187327.  ],\n",
       "       [189973.  ],\n",
       "       [192994.  ],\n",
       "       [195351.  ],\n",
       "       [197675.  ],\n",
       "       [199414.  ],\n",
       "       [201505.  ]], dtype=float32)"
      ]
     },
     "execution_count": 14,
     "metadata": {},
     "output_type": "execute_result"
    }
   ],
   "source": [
    "testY"
   ]
  },
  {
   "cell_type": "code",
   "execution_count": 15,
   "metadata": {},
   "outputs": [
    {
     "data": {
      "text/plain": [
       "array([[ 70724.87 ],\n",
       "       [ 76217.22 ],\n",
       "       [ 82755.26 ],\n",
       "       [ 89130.54 ],\n",
       "       [ 95576.8  ],\n",
       "       [101251.41 ],\n",
       "       [105689.58 ],\n",
       "       [110160.22 ],\n",
       "       [115471.63 ],\n",
       "       [120692.305],\n",
       "       [125849.05 ],\n",
       "       [131291.55 ],\n",
       "       [136214.56 ],\n",
       "       [140345.23 ],\n",
       "       [143850.39 ],\n",
       "       [148298.45 ],\n",
       "       [153203.47 ],\n",
       "       [157842.12 ],\n",
       "       [163389.3  ],\n",
       "       [168257.53 ],\n",
       "       [172029.34 ],\n",
       "       [175601.16 ],\n",
       "       [178820.03 ],\n",
       "       [183411.66 ],\n",
       "       [187671.05 ],\n",
       "       [191950.2  ],\n",
       "       [195703.27 ],\n",
       "       [198492.94 ],\n",
       "       [201879.89 ],\n",
       "       [206081.17 ],\n",
       "       [209394.4  ],\n",
       "       [213192.81 ],\n",
       "       [216167.64 ],\n",
       "       [219110.73 ],\n",
       "       [221319.42 ]], dtype=float32)"
      ]
     },
     "execution_count": 15,
     "metadata": {},
     "output_type": "execute_result"
    }
   ],
   "source": [
    "testPredict"
   ]
  },
  {
   "cell_type": "code",
   "execution_count": 16,
   "metadata": {},
   "outputs": [
    {
     "name": "stdout",
     "output_type": "stream",
     "text": [
      "8137.6694\n",
      "104644010.0\n",
      "10229.565\n"
     ]
    }
   ],
   "source": [
    "from sklearn.metrics import mean_absolute_error\n",
    "from sklearn.metrics import mean_squared_error\n",
    "MAE = mean_absolute_error(testY, testPredict)\n",
    "MSE = mean_squared_error(testY, testPredict)\n",
    "RMSE = np.sqrt(MSE)\n",
    "print(MAE)\n",
    "print(MSE)\n",
    "print(RMSE)"
   ]
  },
  {
   "cell_type": "code",
   "execution_count": 17,
   "metadata": {},
   "outputs": [
    {
     "data": {
      "text/plain": [
       "(122, 1)"
      ]
     },
     "execution_count": 17,
     "metadata": {},
     "output_type": "execute_result"
    }
   ],
   "source": [
    "from sklearn.preprocessing import MinMaxScaler\n",
    "dataset = data['total'].values\n",
    "dataset = dataset.astype('float32')\n",
    "dataset = dataset.reshape(-1,1)\n",
    "scaler = MinMaxScaler(feature_range=(0,1))\n",
    "dataset = scaler.fit_transform(dataset)\n",
    "dataset.shape"
   ]
  },
  {
   "cell_type": "code",
   "execution_count": 18,
   "metadata": {},
   "outputs": [],
   "source": [
    "train_size = int(len(dataset) * 0.7)\n",
    "test_size = len(dataset) - train_size\n",
    "train, test = dataset[0:train_size,:], dataset[train_size:len(dataset),:]"
   ]
  },
  {
   "cell_type": "code",
   "execution_count": 19,
   "metadata": {},
   "outputs": [],
   "source": [
    "look_back = 7\n",
    "trainX, trainY = create_dataset(train, look_back)\n",
    "testX, testY = create_dataset(test, look_back)"
   ]
  },
  {
   "cell_type": "code",
   "execution_count": 20,
   "metadata": {},
   "outputs": [
    {
     "name": "stdout",
     "output_type": "stream",
     "text": [
      "WARNING:tensorflow:Model was constructed with shape (None, 1, 7) for input Tensor(\"dense_1_input:0\", shape=(None, 1, 7), dtype=float32), but it was called on an input with incompatible shape (None, 7).\n",
      "WARNING:tensorflow:Model was constructed with shape (None, 1, 7) for input Tensor(\"dense_1_input:0\", shape=(None, 1, 7), dtype=float32), but it was called on an input with incompatible shape (None, 7).\n",
      "39/39 - 0s - loss: 0.0015\n"
     ]
    },
    {
     "data": {
      "text/plain": [
       "<tensorflow.python.keras.callbacks.History at 0x26a6f311b48>"
      ]
     },
     "execution_count": 20,
     "metadata": {},
     "output_type": "execute_result"
    }
   ],
   "source": [
    "ANN_model = Sequential()\n",
    "ANN_model.add(Dense(512, input_shape=(1, look_back), activation='relu'))\n",
    "ANN_model.add(Dense(1))\n",
    "ANN_model.compile(loss='mean_squared_error', optimizer='adam')\n",
    "ANN_model.fit(trainX, trainY, epochs=1, batch_size=2, verbose=2)"
   ]
  },
  {
   "cell_type": "code",
   "execution_count": 21,
   "metadata": {},
   "outputs": [
    {
     "name": "stdout",
     "output_type": "stream",
     "text": [
      "WARNING:tensorflow:Model was constructed with shape (None, 1, 7) for input Tensor(\"dense_1_input:0\", shape=(None, 1, 7), dtype=float32), but it was called on an input with incompatible shape (None, 7).\n"
     ]
    }
   ],
   "source": [
    "trainPredict = ANN_model.predict(trainX)\n",
    "testPredict = ANN_model.predict(testX)\n",
    "trainPredict = trainPredict.reshape(-1,1)\n",
    "testPredict = testPredict.reshape(-1,1)"
   ]
  },
  {
   "cell_type": "code",
   "execution_count": 22,
   "metadata": {},
   "outputs": [],
   "source": [
    "trainPredict = scaler.inverse_transform(trainPredict)\n",
    "testPredict = scaler.inverse_transform(testPredict)\n",
    "dataset = scaler.inverse_transform(dataset)"
   ]
  },
  {
   "cell_type": "code",
   "execution_count": 23,
   "metadata": {},
   "outputs": [
    {
     "data": {
      "image/png": "[encoded data removed]",
      "text/plain": [
       "<Figure size 1152x648 with 1 Axes>"
      ]
     },
     "metadata": {
      "needs_background": "light"
     },
     "output_type": "display_data"
    }
   ],
   "source": [
    "trainPredictPlot = np.empty_like(dataset)\n",
    "trainPredictPlot[:, :] = np.nan\n",
    "trainPredictPlot[look_back:len(trainPredict)+look_back, :] = trainPredict\n",
    "# shift test predictions for plotting\n",
    "testPredictPlot = np.empty_like(dataset)\n",
    "testPredictPlot[:, :] = np.nan\n",
    "testPredictPlot[len(trainPredict)+(look_back*2)+1:len(dataset)-1, :] = testPredict\n",
    "# plot baseline and predictions\n",
    "plt.figure(figsize=(16,9))\n",
    "plt.plot(dataset, color = 'blue')\n",
    "plt.plot(trainPredictPlot, color = 'orange')\n",
    "plt.plot(testPredictPlot, color = 'red')\n",
    "plt.legend(['Original','Train_Predicted','Test_Predicted'])\n",
    "plt.title('The Total positive with Covid-19 following days in Italy ')\n",
    "plt.ylabel('The number of Cases')\n",
    "plt.show()"
   ]
  },
  {
   "cell_type": "code",
   "execution_count": 24,
   "metadata": {},
   "outputs": [],
   "source": [
    "testY =scaler.inverse_transform(testY.reshape(-1,1))"
   ]
  },
  {
   "cell_type": "code",
   "execution_count": 25,
   "metadata": {},
   "outputs": [
    {
     "name": "stdout",
     "output_type": "stream",
     "text": [
      "15253.962\n",
      "245657220.0\n",
      "15673.456\n"
     ]
    }
   ],
   "source": [
    "from sklearn.metrics import mean_absolute_error\n",
    "from sklearn.metrics import mean_squared_error\n",
    "MAE = mean_absolute_error(testY, testPredict)\n",
    "MSE = mean_squared_error(testY, testPredict)\n",
    "RMSE = np.sqrt(MSE)\n",
    "print(MAE)\n",
    "print(MSE)\n",
    "print(RMSE)"
   ]
  },
  {
   "cell_type": "code",
   "execution_count": null,
   "metadata": {},
   "outputs": [],
   "source": []
  },
  {
   "cell_type": "code",
   "execution_count": null,
   "metadata": {},
   "outputs": [],
   "source": []
  },
  {
   "cell_type": "code",
   "execution_count": null,
   "metadata": {},
   "outputs": [],
   "source": []
  },
  {
   "cell_type": "code",
   "execution_count": null,
   "metadata": {},
   "outputs": [],
   "source": []
  },
  {
   "cell_type": "code",
   "execution_count": null,
   "metadata": {},
   "outputs": [],
   "source": []
  },
  {
   "cell_type": "code",
   "execution_count": null,
   "metadata": {},
   "outputs": [],
   "source": []
  },
  {
   "cell_type": "code",
   "execution_count": null,
   "metadata": {},
   "outputs": [],
   "source": []
  }
 ],
 "metadata": {
  "kernelspec": {
   "display_name": "Python 3",
   "language": "python",
   "name": "python3"
  },
  "language_info": {
   "codemirror_mode": {
    "name": "ipython",
    "version": 3
   },
   "file_extension": ".py",
   "mimetype": "text/x-python",
   "name": "python",
   "nbconvert_exporter": "python",
   "pygments_lexer": "ipython3",
   "version": "3.7.7"
  }
 },
 "nbformat": 4,
 "nbformat_minor": 4
}
