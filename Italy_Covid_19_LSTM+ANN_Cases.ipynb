{
 "cells": [
  {
   "cell_type": "code",
   "execution_count": 2,
   "metadata": {},
   "outputs": [],
   "source": [
    "import numpy as np\n",
    "import pandas as pd\n",
    "import matplotlib.pyplot as plt\n",
    "from datetime import datetime\n",
    "from tensorflow.keras.models import Sequential\n",
    "from tensorflow.keras.layers import Dense,LSTM\n",
    "from sklearn.preprocessing import MinMaxScaler\n"
   ]
  },
  {
   "cell_type": "code",
   "execution_count": 3,
   "metadata": {},
   "outputs": [
    {
     "data": {
      "text/html": [
       "<div>\n",
       "<style scoped>\n",
       "    .dataframe tbody tr th:only-of-type {\n",
       "        vertical-align: middle;\n",
       "    }\n",
       "\n",
       "    .dataframe tbody tr th {\n",
       "        vertical-align: top;\n",
       "    }\n",
       "\n",
       "    .dataframe thead th {\n",
       "        text-align: right;\n",
       "    }\n",
       "</style>\n",
       "<table border=\"1\" class=\"dataframe\">\n",
       "  <thead>\n",
       "    <tr style=\"text-align: right;\">\n",
       "      <th></th>\n",
       "      <th>dateRep</th>\n",
       "      <th>cases</th>\n",
       "      <th>total</th>\n",
       "    </tr>\n",
       "  </thead>\n",
       "  <tbody>\n",
       "    <tr>\n",
       "      <th>0</th>\n",
       "      <td>2019-12-31</td>\n",
       "      <td>0</td>\n",
       "      <td>0</td>\n",
       "    </tr>\n",
       "    <tr>\n",
       "      <th>1</th>\n",
       "      <td>2020-01-01</td>\n",
       "      <td>0</td>\n",
       "      <td>0</td>\n",
       "    </tr>\n",
       "    <tr>\n",
       "      <th>2</th>\n",
       "      <td>2020-01-02</td>\n",
       "      <td>0</td>\n",
       "      <td>0</td>\n",
       "    </tr>\n",
       "    <tr>\n",
       "      <th>3</th>\n",
       "      <td>2020-01-03</td>\n",
       "      <td>0</td>\n",
       "      <td>0</td>\n",
       "    </tr>\n",
       "    <tr>\n",
       "      <th>4</th>\n",
       "      <td>2020-01-04</td>\n",
       "      <td>0</td>\n",
       "      <td>0</td>\n",
       "    </tr>\n",
       "  </tbody>\n",
       "</table>\n",
       "</div>"
      ],
      "text/plain": [
       "     dateRep  cases  total\n",
       "0 2019-12-31      0      0\n",
       "1 2020-01-01      0      0\n",
       "2 2020-01-02      0      0\n",
       "3 2020-01-03      0      0\n",
       "4 2020-01-04      0      0"
      ]
     },
     "execution_count": 3,
     "metadata": {},
     "output_type": "execute_result"
    }
   ],
   "source": [
    "data = pd.read_csv('Covid-19_IT.csv', usecols=[1,5,6])\n",
    "data['dateRep'] = pd.to_datetime(data['dateRep'])\n",
    "data.head()"
   ]
  },
  {
   "cell_type": "code",
   "execution_count": 4,
   "metadata": {},
   "outputs": [
    {
     "data": {
      "image/png": "[encoded data removed]",
      "text/plain": [
       "<Figure size 1152x648 with 1 Axes>"
      ]
     },
     "metadata": {
      "needs_background": "light"
     },
     "output_type": "display_data"
    }
   ],
   "source": [
    "plt.figure(figsize=(16,9))\n",
    "x = data['dateRep']\n",
    "y = data['cases']\n",
    "z = data['total']\n",
    "plt.plot(x,y)\n",
    "plt.plot(x,z)\n",
    "plt.legend(['Cases', 'Total'])\n",
    "plt.show()"
   ]
  },
  {
   "cell_type": "code",
   "execution_count": 5,
   "metadata": {},
   "outputs": [],
   "source": [
    "def create_dataset(dataset, look_back=9):\n",
    "\tdataX, dataY = [], []\n",
    "\tfor i in range(len(dataset)-look_back-1):\n",
    "\t\ta = dataset[i:(i+look_back),0]\n",
    "\t\tdataX.append(a)\n",
    "\t\tdataY.append(dataset[i + look_back,0])\n",
    "\treturn np.array(dataX), np.array(dataY)\n"
   ]
  },
  {
   "cell_type": "code",
   "execution_count": 6,
   "metadata": {},
   "outputs": [
    {
     "data": {
      "text/plain": [
       "(122, 1)"
      ]
     },
     "execution_count": 6,
     "metadata": {},
     "output_type": "execute_result"
    }
   ],
   "source": [
    "from sklearn.preprocessing import MinMaxScaler\n",
    "dataset = data['cases'].values\n",
    "dataset = dataset.astype('float32')\n",
    "dataset = dataset.reshape(-1,1)\n",
    "scaler = MinMaxScaler(feature_range=(0,1))\n",
    "dataset = scaler.fit_transform(dataset)\n",
    "dataset.shape"
   ]
  },
  {
   "cell_type": "code",
   "execution_count": 7,
   "metadata": {},
   "outputs": [],
   "source": [
    "train_size = int(len(dataset) * 0.7)\n",
    "test_size = len(dataset) - train_size\n",
    "train, test = dataset[0:train_size,:], dataset[train_size:len(dataset),:]"
   ]
  },
  {
   "cell_type": "code",
   "execution_count": 8,
   "metadata": {},
   "outputs": [
    {
     "name": "stdout",
     "output_type": "stream",
     "text": [
      "[[0.00000000e+00]\n",
      " [0.00000000e+00]\n",
      " [0.00000000e+00]\n",
      " [0.00000000e+00]\n",
      " [0.00000000e+00]\n",
      " [0.00000000e+00]\n",
      " [0.00000000e+00]\n",
      " [0.00000000e+00]\n",
      " [0.00000000e+00]\n",
      " [0.00000000e+00]\n",
      " [0.00000000e+00]\n",
      " [0.00000000e+00]\n",
      " [0.00000000e+00]\n",
      " [0.00000000e+00]\n",
      " [0.00000000e+00]\n",
      " [0.00000000e+00]\n",
      " [0.00000000e+00]\n",
      " [0.00000000e+00]\n",
      " [0.00000000e+00]\n",
      " [0.00000000e+00]\n",
      " [0.00000000e+00]\n",
      " [0.00000000e+00]\n",
      " [0.00000000e+00]\n",
      " [0.00000000e+00]\n",
      " [0.00000000e+00]\n",
      " [0.00000000e+00]\n",
      " [0.00000000e+00]\n",
      " [0.00000000e+00]\n",
      " [0.00000000e+00]\n",
      " [0.00000000e+00]\n",
      " [0.00000000e+00]\n",
      " [4.57526301e-04]\n",
      " [0.00000000e+00]\n",
      " [0.00000000e+00]\n",
      " [0.00000000e+00]\n",
      " [0.00000000e+00]\n",
      " [0.00000000e+00]\n",
      " [0.00000000e+00]\n",
      " [0.00000000e+00]\n",
      " [0.00000000e+00]\n",
      " [0.00000000e+00]\n",
      " [0.00000000e+00]\n",
      " [0.00000000e+00]\n",
      " [0.00000000e+00]\n",
      " [0.00000000e+00]\n",
      " [0.00000000e+00]\n",
      " [0.00000000e+00]\n",
      " [0.00000000e+00]\n",
      " [0.00000000e+00]\n",
      " [0.00000000e+00]\n",
      " [0.00000000e+00]\n",
      " [0.00000000e+00]\n",
      " [0.00000000e+00]\n",
      " [2.13512289e-03]\n",
      " [9.45554394e-03]\n",
      " [8.08296446e-03]\n",
      " [1.47933513e-02]\n",
      " [1.41833154e-02]\n",
      " [1.18956845e-02]\n",
      " [3.81271914e-02]\n",
      " [3.62970866e-02]\n",
      " [3.66021059e-02]\n",
      " [8.55574235e-02]\n",
      " [5.29205427e-02]\n",
      " [7.10690841e-02]\n",
      " [8.95226523e-02]\n",
      " [1.17279246e-01]\n",
      " [1.18651822e-01]\n",
      " [1.90178439e-01]\n",
      " [2.27543086e-01]\n",
      " [2.74058253e-01]\n",
      " [1.49001077e-01]\n",
      " [3.52752775e-01]\n",
      " [4.04300749e-01]\n",
      " [3.88439834e-01]\n",
      " [5.33323169e-01]\n",
      " [4.30532277e-01]\n",
      " [6.10035062e-01]\n",
      " [5.37745953e-01]\n",
      " [6.41604424e-01]\n",
      " [8.11651707e-01]\n",
      " [9.12917495e-01]\n",
      " [1.00000000e+00]]\n"
     ]
    }
   ],
   "source": [
    "look_back = 1\n",
    "trainX, trainY = create_dataset(train, look_back)\n",
    "testX, testY = create_dataset(test, look_back)\n",
    "print(trainX)"
   ]
  },
  {
   "cell_type": "code",
   "execution_count": 9,
   "metadata": {},
   "outputs": [],
   "source": [
    "trainX = np.reshape(trainX, (trainX.shape[0], 1, trainX.shape[1]))\n",
    "testX = np.reshape(testX, (testX.shape[0], 1, testX.shape[1]))"
   ]
  },
  {
   "cell_type": "code",
   "execution_count": 10,
   "metadata": {},
   "outputs": [
    {
     "name": "stdout",
     "output_type": "stream",
     "text": [
      "Epoch 1/20\n",
      "42/42 - 0s - loss: 0.0563\n",
      "Epoch 2/20\n",
      "42/42 - 0s - loss: 0.0451\n",
      "Epoch 3/20\n",
      "42/42 - 0s - loss: 0.0404\n",
      "Epoch 4/20\n",
      "42/42 - 0s - loss: 0.0350\n",
      "Epoch 5/20\n",
      "42/42 - 0s - loss: 0.0288\n",
      "Epoch 6/20\n",
      "42/42 - 0s - loss: 0.0235\n",
      "Epoch 7/20\n",
      "42/42 - 0s - loss: 0.0173\n",
      "Epoch 8/20\n",
      "42/42 - 0s - loss: 0.0128\n",
      "Epoch 9/20\n",
      "42/42 - 0s - loss: 0.0081\n",
      "Epoch 10/20\n",
      "42/42 - 0s - loss: 0.0056\n",
      "Epoch 11/20\n",
      "42/42 - 0s - loss: 0.0040\n",
      "Epoch 12/20\n",
      "42/42 - 0s - loss: 0.0035\n",
      "Epoch 13/20\n",
      "42/42 - 0s - loss: 0.0032\n",
      "Epoch 14/20\n",
      "42/42 - 0s - loss: 0.0031\n",
      "Epoch 15/20\n",
      "42/42 - 0s - loss: 0.0032\n",
      "Epoch 16/20\n",
      "42/42 - 0s - loss: 0.0031\n",
      "Epoch 17/20\n",
      "42/42 - 0s - loss: 0.0031\n",
      "Epoch 18/20\n",
      "42/42 - 0s - loss: 0.0031\n",
      "Epoch 19/20\n",
      "42/42 - 0s - loss: 0.0032\n",
      "Epoch 20/20\n",
      "42/42 - 0s - loss: 0.0031\n"
     ]
    },
    {
     "data": {
      "text/plain": [
       "<tensorflow.python.keras.callbacks.History at 0x11c6c632748>"
      ]
     },
     "execution_count": 10,
     "metadata": {},
     "output_type": "execute_result"
    }
   ],
   "source": [
    "model = Sequential()\n",
    "model.add(LSTM(256, input_shape=(1, look_back), activation='relu'))\n",
    "model.add(Dense(1))\n",
    "model.compile(loss='mean_squared_error', optimizer='adam')\n",
    "model.fit(trainX, trainY, epochs=20, batch_size=2, verbose=2)"
   ]
  },
  {
   "cell_type": "code",
   "execution_count": 11,
   "metadata": {},
   "outputs": [],
   "source": [
    "trainPredict = model.predict(trainX)\n",
    "testPredict = model.predict(testX)\n",
    "trainPredict = trainPredict.reshape(-1,1)\n",
    "testPredict = testPredict.reshape(-1,1)\n",
    "#trainPredict = scaler.inverse_transform(trainPredict)\n",
    "#testPredict = scaler.inverse_transform(testPredict)\n",
    "#dataset = scaler.inverse_transform(dataset)"
   ]
  },
  {
   "cell_type": "code",
   "execution_count": 12,
   "metadata": {},
   "outputs": [],
   "source": [
    "trainPredict = scaler.inverse_transform(trainPredict)\n",
    "testPredict = scaler.inverse_transform(testPredict)\n",
    "dataset = scaler.inverse_transform(dataset)"
   ]
  },
  {
   "cell_type": "code",
   "execution_count": 27,
   "metadata": {},
   "outputs": [
    {
     "data": {
      "image/png": "[encoded data removed]",
      "text/plain": [
       "<Figure size 1152x648 with 1 Axes>"
      ]
     },
     "metadata": {
      "needs_background": "light"
     },
     "output_type": "display_data"
    }
   ],
   "source": [
    "# shift train predictions for plotting\n",
    "trainPredictPlot = np.empty_like(dataset)\n",
    "trainPredictPlot[:, :] = np.nan\n",
    "trainPredictPlot[look_back:len(trainPredict)+look_back, :] = trainPredict\n",
    "# shift test predictions for plotting\n",
    "testPredictPlot = np.empty_like(dataset)\n",
    "testPredictPlot[:, :] = np.nan\n",
    "testPredictPlot[len(trainPredict)+(look_back*2)+1:len(dataset)-1, :] = testPredict\n",
    "# plot baseline and predictions\n",
    "plt.figure(figsize=(16,9))\n",
    "plt.plot(dataset, color = 'blue')\n",
    "plt.plot(trainPredictPlot, color = 'orange')\n",
    "plt.plot(testPredictPlot, color = 'red')\n",
    "plt.legend(['Original','Train_Predicted','Test_Predicted'])\n",
    "plt.title('The Cases positive with Covid-19 following days in Italy ')\n",
    "plt.ylabel('Cases')\n",
    "plt.show()"
   ]
  },
  {
   "cell_type": "code",
   "execution_count": null,
   "metadata": {},
   "outputs": [],
   "source": [
    "\n",
    "\n"
   ]
  },
  {
   "cell_type": "code",
   "execution_count": 14,
   "metadata": {},
   "outputs": [],
   "source": [
    "testY =scaler.inverse_transform(testY.reshape(-1,1))"
   ]
  },
  {
   "cell_type": "code",
   "execution_count": 15,
   "metadata": {},
   "outputs": [
    {
     "data": {
      "text/plain": [
       "array([[5210.    ],\n",
       "       [6153.    ],\n",
       "       [5959.    ],\n",
       "       [5974.    ],\n",
       "       [5217.    ],\n",
       "       [4050.    ],\n",
       "       [4053.    ],\n",
       "       [4782.    ],\n",
       "       [4668.    ],\n",
       "       [4585.    ],\n",
       "       [4805.    ],\n",
       "       [4316.    ],\n",
       "       [3599.    ],\n",
       "       [3039.    ],\n",
       "       [3836.    ],\n",
       "       [4204.    ],\n",
       "       [3950.9998],\n",
       "       [4694.    ],\n",
       "       [4092.    ],\n",
       "       [3153.    ],\n",
       "       [2972.    ],\n",
       "       [2667.    ],\n",
       "       [3785.9998],\n",
       "       [3492.9998],\n",
       "       [3491.    ],\n",
       "       [3047.    ],\n",
       "       [2256.    ],\n",
       "       [2729.    ],\n",
       "       [3370.0002],\n",
       "       [2646.    ],\n",
       "       [3021.    ],\n",
       "       [2357.    ],\n",
       "       [2324.    ],\n",
       "       [1738.9999],\n",
       "       [2091.    ]], dtype=float32)"
      ]
     },
     "execution_count": 15,
     "metadata": {},
     "output_type": "execute_result"
    }
   ],
   "source": [
    "testY"
   ]
  },
  {
   "cell_type": "code",
   "execution_count": 16,
   "metadata": {},
   "outputs": [
    {
     "data": {
      "text/plain": [
       "array([[5605.2144],\n",
       "       [5559.389 ],\n",
       "       [6688.129 ],\n",
       "       [6452.3794],\n",
       "       [6470.542 ],\n",
       "       [5567.6094],\n",
       "       [4230.012 ],\n",
       "       [4233.3667],\n",
       "       [5061.3325],\n",
       "       [4930.1675],\n",
       "       [4835.0635],\n",
       "       [5087.872 ],\n",
       "       [4529.1196],\n",
       "       [3730.6348],\n",
       "       [3124.0894],\n",
       "       [3991.842 ],\n",
       "       [4402.765 ],\n",
       "       [4119.5576],\n",
       "       [4960.027 ],\n",
       "       [4277.013 ],\n",
       "       [3246.3538],\n",
       "       [3052.5205],\n",
       "       [2729.413 ],\n",
       "       [3936.511 ],\n",
       "       [3614.6763],\n",
       "       [3612.494 ],\n",
       "       [3132.6492],\n",
       "       [2300.9734],\n",
       "       [2794.7368],\n",
       "       [3480.7942],\n",
       "       [2707.3281],\n",
       "       [3104.841 ],\n",
       "       [2405.5203],\n",
       "       [2371.3083],\n",
       "       [1773.3322]], dtype=float32)"
      ]
     },
     "execution_count": 16,
     "metadata": {},
     "output_type": "execute_result"
    }
   ],
   "source": [
    "testPredict"
   ]
  },
  {
   "cell_type": "code",
   "execution_count": 17,
   "metadata": {},
   "outputs": [
    {
     "name": "stdout",
     "output_type": "stream",
     "text": [
      "584.415\n",
      "451694.2\n",
      "672.082\n"
     ]
    }
   ],
   "source": [
    "from sklearn.metrics import mean_absolute_error\n",
    "from sklearn.metrics import mean_squared_error\n",
    "MAE = mean_absolute_error(testY, testPredict)\n",
    "MSE = mean_squared_error(testY, testPredict)\n",
    "RMSE = np.sqrt(MSE)\n",
    "print(MAE)\n",
    "print(MSE)\n",
    "print(RMSE)"
   ]
  },
  {
   "cell_type": "code",
   "execution_count": 18,
   "metadata": {},
   "outputs": [
    {
     "data": {
      "text/plain": [
       "(122, 1)"
      ]
     },
     "execution_count": 18,
     "metadata": {},
     "output_type": "execute_result"
    }
   ],
   "source": [
    "from sklearn.preprocessing import MinMaxScaler\n",
    "dataset = data['cases'].values\n",
    "dataset = dataset.astype('float32')\n",
    "dataset = dataset.reshape(-1,1)\n",
    "scaler = MinMaxScaler(feature_range=(0,1))\n",
    "dataset = scaler.fit_transform(dataset)\n",
    "dataset.shape"
   ]
  },
  {
   "cell_type": "code",
   "execution_count": 19,
   "metadata": {},
   "outputs": [],
   "source": [
    "train_size = int(len(dataset) * 0.7)\n",
    "test_size = len(dataset) - train_size\n",
    "train, test = dataset[0:train_size,:], dataset[train_size:len(dataset),:]"
   ]
  },
  {
   "cell_type": "code",
   "execution_count": 20,
   "metadata": {},
   "outputs": [],
   "source": [
    "look_back = 1\n",
    "trainX, trainY = create_dataset(train, look_back)\n",
    "testX, testY = create_dataset(test, look_back)"
   ]
  },
  {
   "cell_type": "code",
   "execution_count": 21,
   "metadata": {},
   "outputs": [
    {
     "name": "stdout",
     "output_type": "stream",
     "text": [
      "Epoch 1/20\n",
      "42/42 - 0s - loss: 0.0370\n",
      "Epoch 2/20\n",
      "42/42 - 0s - loss: 0.0105\n",
      "Epoch 3/20\n",
      "42/42 - 0s - loss: 0.0036\n",
      "Epoch 4/20\n",
      "42/42 - 0s - loss: 0.0029\n",
      "Epoch 5/20\n",
      "42/42 - 0s - loss: 0.0027\n",
      "Epoch 6/20\n",
      "42/42 - 0s - loss: 0.0029\n",
      "Epoch 7/20\n",
      "42/42 - 0s - loss: 0.0025\n",
      "Epoch 8/20\n",
      "42/42 - 0s - loss: 0.0036\n",
      "Epoch 9/20\n",
      "42/42 - 0s - loss: 0.0030\n",
      "Epoch 10/20\n",
      "42/42 - 0s - loss: 0.0032\n",
      "Epoch 11/20\n",
      "42/42 - 0s - loss: 0.0028\n",
      "Epoch 12/20\n",
      "42/42 - 0s - loss: 0.0031\n",
      "Epoch 13/20\n",
      "42/42 - 0s - loss: 0.0028\n",
      "Epoch 14/20\n",
      "42/42 - 0s - loss: 0.0028\n",
      "Epoch 15/20\n",
      "42/42 - 0s - loss: 0.0025\n",
      "Epoch 16/20\n",
      "42/42 - 0s - loss: 0.0027\n",
      "Epoch 17/20\n",
      "42/42 - 0s - loss: 0.0027\n",
      "Epoch 18/20\n",
      "42/42 - 0s - loss: 0.0027\n",
      "Epoch 19/20\n",
      "42/42 - 0s - loss: 0.0028\n",
      "Epoch 20/20\n",
      "42/42 - 0s - loss: 0.0031\n"
     ]
    },
    {
     "data": {
      "text/plain": [
       "<tensorflow.python.keras.callbacks.History at 0x11c6bee6908>"
      ]
     },
     "execution_count": 21,
     "metadata": {},
     "output_type": "execute_result"
    }
   ],
   "source": [
    "ANN_model = Sequential()\n",
    "ANN_model.add(Dense(512, input_shape=(1, look_back), activation='relu'))\n",
    "ANN_model.add(Dense(1))\n",
    "ANN_model.compile(loss='mean_squared_error', optimizer='adam')\n",
    "ANN_model.fit(trainX, trainY, epochs=20, batch_size=2, verbose=2)"
   ]
  },
  {
   "cell_type": "code",
   "execution_count": 22,
   "metadata": {},
   "outputs": [],
   "source": [
    "trainPredict = ANN_model.predict(trainX)\n",
    "testPredict = ANN_model.predict(testX)\n",
    "trainPredict = trainPredict.reshape(-1,1)\n",
    "testPredict = testPredict.reshape(-1,1)"
   ]
  },
  {
   "cell_type": "code",
   "execution_count": 23,
   "metadata": {},
   "outputs": [],
   "source": [
    "trainPredict = scaler.inverse_transform(trainPredict)\n",
    "testPredict = scaler.inverse_transform(testPredict)\n",
    "dataset = scaler.inverse_transform(dataset)"
   ]
  },
  {
   "cell_type": "code",
   "execution_count": 28,
   "metadata": {},
   "outputs": [
    {
     "data": {
      "image/png": "[encoded data removed]",
      "text/plain": [
       "<Figure size 1152x648 with 1 Axes>"
      ]
     },
     "metadata": {
      "needs_background": "light"
     },
     "output_type": "display_data"
    }
   ],
   "source": [
    "trainPredictPlot = np.empty_like(dataset)\n",
    "trainPredictPlot[:, :] = np.nan\n",
    "trainPredictPlot[look_back:len(trainPredict)+look_back, :] = trainPredict\n",
    "# shift test predictions for plotting\n",
    "testPredictPlot = np.empty_like(dataset)\n",
    "testPredictPlot[:, :] = np.nan\n",
    "testPredictPlot[len(trainPredict)+(look_back*2)+1:len(dataset)-1, :] = testPredict\n",
    "# plot baseline and predictions\n",
    "plt.figure(figsize=(16,9))\n",
    "plt.plot(dataset, color = 'blue')\n",
    "plt.plot(trainPredictPlot, color = 'orange')\n",
    "plt.plot(testPredictPlot, color = 'red')\n",
    "plt.legend(['Original','Train_Predicted','Test_Predicted'])\n",
    "plt.title('The Cases positive with Covid-19 following days in Italy ')\n",
    "plt.ylabel('Cases')\n",
    "plt.show()"
   ]
  },
  {
   "cell_type": "code",
   "execution_count": 25,
   "metadata": {},
   "outputs": [],
   "source": [
    "testY =scaler.inverse_transform(testY.reshape(-1,1))"
   ]
  },
  {
   "cell_type": "code",
   "execution_count": 26,
   "metadata": {},
   "outputs": [
    {
     "name": "stdout",
     "output_type": "stream",
     "text": [
      "717.67096\n",
      "708949.4\n",
      "841.99133\n"
     ]
    }
   ],
   "source": [
    "from sklearn.metrics import mean_absolute_error\n",
    "from sklearn.metrics import mean_squared_error\n",
    "MAE = mean_absolute_error(testY, testPredict)\n",
    "MSE = mean_squared_error(testY, testPredict)\n",
    "RMSE = np.sqrt(MSE)\n",
    "print(MAE)\n",
    "print(MSE)\n",
    "print(RMSE)"
   ]
  },
  {
   "cell_type": "code",
   "execution_count": null,
   "metadata": {},
   "outputs": [],
   "source": []
  },
  {
   "cell_type": "code",
   "execution_count": null,
   "metadata": {},
   "outputs": [],
   "source": []
  },
  {
   "cell_type": "code",
   "execution_count": null,
   "metadata": {},
   "outputs": [],
   "source": []
  },
  {
   "cell_type": "code",
   "execution_count": null,
   "metadata": {},
   "outputs": [],
   "source": []
  },
  {
   "cell_type": "code",
   "execution_count": null,
   "metadata": {},
   "outputs": [],
   "source": []
  }
 ],
 "metadata": {
  "kernelspec": {
   "display_name": "Python 3",
   "language": "python",
   "name": "python3"
  },
  "language_info": {
   "codemirror_mode": {
    "name": "ipython",
    "version": 3
   },
   "file_extension": ".py",
   "mimetype": "text/x-python",
   "name": "python",
   "nbconvert_exporter": "python",
   "pygments_lexer": "ipython3",
   "version": "3.7.7"
  }
 },
 "nbformat": 4,
 "nbformat_minor": 4
}
