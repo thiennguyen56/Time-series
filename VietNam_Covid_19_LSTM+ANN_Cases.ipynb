{
 "cells": [
  {
   "cell_type": "code",
   "execution_count": 46,
   "metadata": {},
   "outputs": [],
   "source": [
    "import numpy as np\n",
    "import pandas as pd\n",
    "import matplotlib.pyplot as plt\n",
    "from datetime import datetime\n",
    "from tensorflow.keras.models import Sequential\n",
    "from tensorflow.keras.layers import Dense,LSTM\n",
    "from sklearn.preprocessing import MinMaxScaler\n"
   ]
  },
  {
   "cell_type": "code",
   "execution_count": 47,
   "metadata": {},
   "outputs": [
    {
     "data": {
      "text/html": [
       "<div>\n",
       "<style scoped>\n",
       "    .dataframe tbody tr th:only-of-type {\n",
       "        vertical-align: middle;\n",
       "    }\n",
       "\n",
       "    .dataframe tbody tr th {\n",
       "        vertical-align: top;\n",
       "    }\n",
       "\n",
       "    .dataframe thead th {\n",
       "        text-align: right;\n",
       "    }\n",
       "</style>\n",
       "<table border=\"1\" class=\"dataframe\">\n",
       "  <thead>\n",
       "    <tr style=\"text-align: right;\">\n",
       "      <th></th>\n",
       "      <th>dateRep</th>\n",
       "      <th>cases</th>\n",
       "      <th>total</th>\n",
       "    </tr>\n",
       "  </thead>\n",
       "  <tbody>\n",
       "    <tr>\n",
       "      <th>0</th>\n",
       "      <td>2019-12-31</td>\n",
       "      <td>0</td>\n",
       "      <td>0</td>\n",
       "    </tr>\n",
       "    <tr>\n",
       "      <th>1</th>\n",
       "      <td>2020-01-01</td>\n",
       "      <td>0</td>\n",
       "      <td>0</td>\n",
       "    </tr>\n",
       "    <tr>\n",
       "      <th>2</th>\n",
       "      <td>2020-01-02</td>\n",
       "      <td>0</td>\n",
       "      <td>0</td>\n",
       "    </tr>\n",
       "    <tr>\n",
       "      <th>3</th>\n",
       "      <td>2020-01-03</td>\n",
       "      <td>0</td>\n",
       "      <td>0</td>\n",
       "    </tr>\n",
       "    <tr>\n",
       "      <th>4</th>\n",
       "      <td>2020-01-04</td>\n",
       "      <td>0</td>\n",
       "      <td>0</td>\n",
       "    </tr>\n",
       "  </tbody>\n",
       "</table>\n",
       "</div>"
      ],
      "text/plain": [
       "     dateRep  cases  total\n",
       "0 2019-12-31      0      0\n",
       "1 2020-01-01      0      0\n",
       "2 2020-01-02      0      0\n",
       "3 2020-01-03      0      0\n",
       "4 2020-01-04      0      0"
      ]
     },
     "execution_count": 47,
     "metadata": {},
     "output_type": "execute_result"
    }
   ],
   "source": [
    "data = pd.read_csv('Covid-19_VietNam.csv', usecols=[1,5,6])\n",
    "data['dateRep'] = pd.to_datetime(data['dateRep'])\n",
    "data.head()"
   ]
  },
  {
   "cell_type": "code",
   "execution_count": 48,
   "metadata": {},
   "outputs": [
    {
     "data": {
      "image/png": "[encoded data removed]",
      "text/plain": [
       "<Figure size 1152x648 with 1 Axes>"
      ]
     },
     "metadata": {
      "needs_background": "light"
     },
     "output_type": "display_data"
    }
   ],
   "source": [
    "plt.figure(figsize=(16,9))\n",
    "x = data['dateRep']\n",
    "y = data['cases']\n",
    "z = data['total']\n",
    "plt.plot(x,y)\n",
    "plt.plot(x,z)\n",
    "plt.legend(['Cases', 'Total'])\n",
    "plt.show()"
   ]
  },
  {
   "cell_type": "code",
   "execution_count": 49,
   "metadata": {},
   "outputs": [],
   "source": [
    "def create_dataset(dataset, look_back=9):\n",
    "\tdataX, dataY = [], []\n",
    "\tfor i in range(len(dataset)-look_back-1):\n",
    "\t\ta = dataset[i:(i+look_back),0]\n",
    "\t\tdataX.append(a)\n",
    "\t\tdataY.append(dataset[i + look_back,0])\n",
    "\treturn np.array(dataX), np.array(dataY)\n"
   ]
  },
  {
   "cell_type": "code",
   "execution_count": 50,
   "metadata": {},
   "outputs": [
    {
     "data": {
      "text/plain": [
       "(118, 1)"
      ]
     },
     "execution_count": 50,
     "metadata": {},
     "output_type": "execute_result"
    }
   ],
   "source": [
    "from sklearn.preprocessing import MinMaxScaler\n",
    "dataset = data['cases'].values\n",
    "dataset = dataset.astype('float32')\n",
    "dataset = dataset.reshape(-1,1)\n",
    "scaler = MinMaxScaler(feature_range=(0,1))\n",
    "dataset = scaler.fit_transform(dataset)\n",
    "dataset.shape"
   ]
  },
  {
   "cell_type": "code",
   "execution_count": 51,
   "metadata": {},
   "outputs": [],
   "source": [
    "train_size = int(len(dataset) * 0.7)\n",
    "test_size = len(dataset) - train_size\n",
    "train, test = dataset[0:train_size,:], dataset[train_size:len(dataset),:]"
   ]
  },
  {
   "cell_type": "code",
   "execution_count": 52,
   "metadata": {},
   "outputs": [
    {
     "name": "stdout",
     "output_type": "stream",
     "text": [
      "[[0.        ]\n",
      " [0.        ]\n",
      " [0.        ]\n",
      " [0.        ]\n",
      " [0.        ]\n",
      " [0.        ]\n",
      " [0.        ]\n",
      " [0.        ]\n",
      " [0.        ]\n",
      " [0.        ]\n",
      " [0.        ]\n",
      " [0.        ]\n",
      " [0.        ]\n",
      " [0.        ]\n",
      " [0.        ]\n",
      " [0.        ]\n",
      " [0.        ]\n",
      " [0.        ]\n",
      " [0.        ]\n",
      " [0.        ]\n",
      " [0.        ]\n",
      " [0.        ]\n",
      " [0.        ]\n",
      " [0.        ]\n",
      " [0.07692308]\n",
      " [0.        ]\n",
      " [0.        ]\n",
      " [0.        ]\n",
      " [0.        ]\n",
      " [0.        ]\n",
      " [0.        ]\n",
      " [0.11538462]\n",
      " [0.        ]\n",
      " [0.07692308]\n",
      " [0.03846154]\n",
      " [0.03846154]\n",
      " [0.03846154]\n",
      " [0.        ]\n",
      " [0.07692308]\n",
      " [0.03846154]\n",
      " [0.03846154]\n",
      " [0.        ]\n",
      " [0.03846154]\n",
      " [0.        ]\n",
      " [0.03846154]\n",
      " [0.        ]\n",
      " [0.        ]\n",
      " [0.        ]\n",
      " [0.        ]\n",
      " [0.        ]\n",
      " [0.        ]\n",
      " [0.        ]\n",
      " [0.        ]\n",
      " [0.        ]\n",
      " [0.        ]\n",
      " [0.        ]\n",
      " [0.        ]\n",
      " [0.        ]\n",
      " [0.        ]\n",
      " [0.        ]\n",
      " [0.        ]\n",
      " [0.        ]\n",
      " [0.        ]\n",
      " [0.03846154]\n",
      " [0.15384616]\n",
      " [0.34615386]\n",
      " [0.15384616]\n",
      " [0.15384616]\n",
      " [0.03846154]\n",
      " [0.1923077 ]\n",
      " [0.34615386]\n",
      " [0.        ]\n",
      " [0.15384616]\n",
      " [0.15384616]\n",
      " [0.26923078]\n",
      " [0.30769232]\n",
      " [0.42307693]\n",
      " [0.03846154]\n",
      " [0.26923078]\n",
      " [1.        ]]\n"
     ]
    }
   ],
   "source": [
    "look_back = 1\n",
    "trainX, trainY = create_dataset(train, look_back)\n",
    "testX, testY = create_dataset(test, look_back)\n",
    "print(trainX)"
   ]
  },
  {
   "cell_type": "code",
   "execution_count": 53,
   "metadata": {},
   "outputs": [],
   "source": [
    "trainX = np.reshape(trainX, (trainX.shape[0], 1, trainX.shape[1]))\n",
    "testX = np.reshape(testX, (testX.shape[0], 1, testX.shape[1]))"
   ]
  },
  {
   "cell_type": "code",
   "execution_count": 54,
   "metadata": {},
   "outputs": [
    {
     "name": "stdout",
     "output_type": "stream",
     "text": [
      "Epoch 1/15\n",
      "40/40 - 0s - loss: 0.0222\n",
      "Epoch 2/15\n",
      "40/40 - 0s - loss: 0.0204\n",
      "Epoch 3/15\n",
      "40/40 - 0s - loss: 0.0191\n",
      "Epoch 4/15\n",
      "40/40 - 0s - loss: 0.0193\n",
      "Epoch 5/15\n",
      "40/40 - 0s - loss: 0.0187\n",
      "Epoch 6/15\n",
      "40/40 - 0s - loss: 0.0184\n",
      "Epoch 7/15\n",
      "40/40 - 0s - loss: 0.0174\n",
      "Epoch 8/15\n",
      "40/40 - 0s - loss: 0.0180\n",
      "Epoch 9/15\n",
      "40/40 - 0s - loss: 0.0173\n",
      "Epoch 10/15\n",
      "40/40 - 0s - loss: 0.0168\n",
      "Epoch 11/15\n",
      "40/40 - 0s - loss: 0.0163\n",
      "Epoch 12/15\n",
      "40/40 - 0s - loss: 0.0158\n",
      "Epoch 13/15\n",
      "40/40 - 0s - loss: 0.0155\n",
      "Epoch 14/15\n",
      "40/40 - 0s - loss: 0.0150\n",
      "Epoch 15/15\n",
      "40/40 - 0s - loss: 0.0156\n"
     ]
    },
    {
     "data": {
      "text/plain": [
       "<tensorflow.python.keras.callbacks.History at 0x21bc33bcd08>"
      ]
     },
     "execution_count": 54,
     "metadata": {},
     "output_type": "execute_result"
    }
   ],
   "source": [
    "from tensorflow.keras.layers import Dropout\n",
    "model = Sequential()\n",
    "model.add(LSTM(256, input_shape=(1, look_back), activation='relu'))\n",
    "model.add(Dropout(0.5))\n",
    "model.add(Dense(1))\n",
    "model.compile(loss='mean_squared_error', optimizer='adam')\n",
    "model.fit(trainX, trainY, epochs=15, batch_size=2, verbose=2)"
   ]
  },
  {
   "cell_type": "code",
   "execution_count": 55,
   "metadata": {},
   "outputs": [],
   "source": [
    "trainPredict = model.predict(trainX)\n",
    "testPredict = model.predict(testX)\n",
    "trainPredict = trainPredict.reshape(-1,1)\n",
    "testPredict = testPredict.reshape(-1,1)\n",
    "#trainPredict = scaler.inverse_transform(trainPredict)\n",
    "#testPredict = scaler.inverse_transform(testPredict)\n",
    "#dataset = scaler.inverse_transform(dataset)"
   ]
  },
  {
   "cell_type": "code",
   "execution_count": 56,
   "metadata": {},
   "outputs": [],
   "source": [
    "trainPredict = scaler.inverse_transform(trainPredict)\n",
    "testPredict = scaler.inverse_transform(testPredict)\n",
    "dataset = scaler.inverse_transform(dataset)"
   ]
  },
  {
   "cell_type": "code",
   "execution_count": 57,
   "metadata": {},
   "outputs": [
    {
     "data": {
      "image/png": "[encoded data removed]",
      "text/plain": [
       "<Figure size 1152x648 with 1 Axes>"
      ]
     },
     "metadata": {
      "needs_background": "light"
     },
     "output_type": "display_data"
    }
   ],
   "source": [
    "# shift train predictions for plotting\n",
    "trainPredictPlot = np.empty_like(dataset)\n",
    "trainPredictPlot[:, :] = np.nan\n",
    "trainPredictPlot[look_back:len(trainPredict)+look_back, :] = trainPredict\n",
    "# shift test predictions for plotting\n",
    "testPredictPlot = np.empty_like(dataset)\n",
    "testPredictPlot[:, :] = np.nan\n",
    "testPredictPlot[len(trainPredict)+(look_back*2)+1:len(dataset)-1, :] = testPredict\n",
    "# plot baseline and predictions\n",
    "plt.figure(figsize=(16,9))\n",
    "plt.plot(dataset, color = 'blue')\n",
    "plt.plot(trainPredictPlot, color = 'orange')\n",
    "plt.plot(testPredictPlot, color = 'red')\n",
    "plt.legend(['Original','Train_Predicted','Test_Predicted'])\n",
    "plt.title('The Cases positive with Covid-19 following days in VietNam')\n",
    "plt.ylabel('Cases')\n",
    "plt.show()"
   ]
  },
  {
   "cell_type": "code",
   "execution_count": null,
   "metadata": {},
   "outputs": [],
   "source": [
    "\n",
    "\n"
   ]
  },
  {
   "cell_type": "code",
   "execution_count": 58,
   "metadata": {},
   "outputs": [],
   "source": [
    "testY =scaler.inverse_transform(testY.reshape(-1,1))"
   ]
  },
  {
   "cell_type": "code",
   "execution_count": 59,
   "metadata": {},
   "outputs": [
    {
     "data": {
      "text/plain": [
       "array([[10.      ],\n",
       "       [ 8.      ],\n",
       "       [17.      ],\n",
       "       [14.999999],\n",
       "       [ 3.      ],\n",
       "       [ 6.      ],\n",
       "       [21.      ],\n",
       "       [ 3.      ],\n",
       "       [ 4.      ],\n",
       "       [ 1.      ],\n",
       "       [ 4.      ],\n",
       "       [ 6.      ],\n",
       "       [ 0.      ],\n",
       "       [ 4.      ],\n",
       "       [ 2.      ],\n",
       "       [ 1.      ],\n",
       "       [ 4.      ],\n",
       "       [ 2.      ],\n",
       "       [ 3.      ],\n",
       "       [ 1.      ],\n",
       "       [ 0.      ],\n",
       "       [ 0.      ],\n",
       "       [ 0.      ],\n",
       "       [ 0.      ],\n",
       "       [ 0.      ],\n",
       "       [ 0.      ],\n",
       "       [ 0.      ],\n",
       "       [ 0.      ],\n",
       "       [ 2.      ],\n",
       "       [ 0.      ],\n",
       "       [ 0.      ],\n",
       "       [ 0.      ],\n",
       "       [ 0.      ],\n",
       "       [ 0.      ]], dtype=float32)"
      ]
     },
     "execution_count": 59,
     "metadata": {},
     "output_type": "execute_result"
    }
   ],
   "source": [
    "testY"
   ]
  },
  {
   "cell_type": "code",
   "execution_count": 60,
   "metadata": {},
   "outputs": [
    {
     "data": {
      "text/plain": [
       "array([[ 8.668989 ],\n",
       "       [ 5.7137094],\n",
       "       [ 4.7538114],\n",
       "       [ 9.171151 ],\n",
       "       [ 8.169375 ],\n",
       "       [ 2.4093013],\n",
       "       [ 3.8065643],\n",
       "       [11.212053 ],\n",
       "       [ 2.4093013],\n",
       "       [ 2.8719165],\n",
       "       [ 1.4941494],\n",
       "       [ 2.8719165],\n",
       "       [ 3.8065643],\n",
       "       [ 1.0715473],\n",
       "       [ 2.8719165],\n",
       "       [ 1.9499438],\n",
       "       [ 1.4941494],\n",
       "       [ 2.8719165],\n",
       "       [ 1.9499438],\n",
       "       [ 2.4093013],\n",
       "       [ 1.4941494],\n",
       "       [ 1.0715473],\n",
       "       [ 1.0715473],\n",
       "       [ 1.0715473],\n",
       "       [ 1.0715473],\n",
       "       [ 1.0715473],\n",
       "       [ 1.0715473],\n",
       "       [ 1.0715473],\n",
       "       [ 1.0715473],\n",
       "       [ 1.9499438],\n",
       "       [ 1.0715473],\n",
       "       [ 1.0715473],\n",
       "       [ 1.0715473],\n",
       "       [ 1.0715473]], dtype=float32)"
      ]
     },
     "execution_count": 60,
     "metadata": {},
     "output_type": "execute_result"
    }
   ],
   "source": [
    "testPredict"
   ]
  },
  {
   "cell_type": "code",
   "execution_count": 61,
   "metadata": {},
   "outputs": [
    {
     "name": "stdout",
     "output_type": "stream",
     "text": [
      "2.8090594\n",
      "19.708626\n",
      "4.43944\n"
     ]
    }
   ],
   "source": [
    "from sklearn.metrics import mean_absolute_error\n",
    "from sklearn.metrics import mean_squared_error\n",
    "MAE = mean_absolute_error(testY, testPredict)\n",
    "MSE = mean_squared_error(testY, testPredict)\n",
    "RMSE = np.sqrt(MSE)\n",
    "print(MAE)\n",
    "print(MSE)\n",
    "print(RMSE)"
   ]
  },
  {
   "cell_type": "code",
   "execution_count": 62,
   "metadata": {},
   "outputs": [
    {
     "data": {
      "text/plain": [
       "(118, 1)"
      ]
     },
     "execution_count": 62,
     "metadata": {},
     "output_type": "execute_result"
    }
   ],
   "source": [
    "from sklearn.preprocessing import MinMaxScaler\n",
    "dataset = data['cases'].values\n",
    "dataset = dataset.astype('float32')\n",
    "dataset = dataset.reshape(-1,1)\n",
    "scaler = MinMaxScaler(feature_range=(0,1))\n",
    "dataset = scaler.fit_transform(dataset)\n",
    "dataset.shape"
   ]
  },
  {
   "cell_type": "code",
   "execution_count": 63,
   "metadata": {},
   "outputs": [],
   "source": [
    "train_size = int(len(dataset) * 0.7)\n",
    "test_size = len(dataset) - train_size\n",
    "train, test = dataset[0:train_size,:], dataset[train_size:len(dataset),:]"
   ]
  },
  {
   "cell_type": "code",
   "execution_count": 64,
   "metadata": {},
   "outputs": [],
   "source": [
    "look_back = 1\n",
    "trainX, trainY = create_dataset(train, look_back)\n",
    "testX, testY = create_dataset(test, look_back)"
   ]
  },
  {
   "cell_type": "code",
   "execution_count": 65,
   "metadata": {},
   "outputs": [
    {
     "name": "stdout",
     "output_type": "stream",
     "text": [
      "Epoch 1/20\n",
      "40/40 - 0s - loss: 0.0186\n",
      "Epoch 2/20\n",
      "40/40 - 0s - loss: 0.0152\n",
      "Epoch 3/20\n",
      "40/40 - 0s - loss: 0.0144\n",
      "Epoch 4/20\n",
      "40/40 - 0s - loss: 0.0142\n",
      "Epoch 5/20\n",
      "40/40 - 0s - loss: 0.0148\n",
      "Epoch 6/20\n",
      "40/40 - 0s - loss: 0.0139\n",
      "Epoch 7/20\n",
      "40/40 - 0s - loss: 0.0141\n",
      "Epoch 8/20\n",
      "40/40 - 0s - loss: 0.0144\n",
      "Epoch 9/20\n",
      "40/40 - 0s - loss: 0.0148\n",
      "Epoch 10/20\n",
      "40/40 - 0s - loss: 0.0141\n",
      "Epoch 11/20\n",
      "40/40 - 0s - loss: 0.0139\n",
      "Epoch 12/20\n",
      "40/40 - 0s - loss: 0.0141\n",
      "Epoch 13/20\n",
      "40/40 - 0s - loss: 0.0134\n",
      "Epoch 14/20\n",
      "40/40 - 0s - loss: 0.0138\n",
      "Epoch 15/20\n",
      "40/40 - 0s - loss: 0.0151\n",
      "Epoch 16/20\n",
      "40/40 - 0s - loss: 0.0141\n",
      "Epoch 17/20\n",
      "40/40 - 0s - loss: 0.0142\n",
      "Epoch 18/20\n",
      "40/40 - 0s - loss: 0.0136\n",
      "Epoch 19/20\n",
      "40/40 - 0s - loss: 0.0135\n",
      "Epoch 20/20\n",
      "40/40 - 0s - loss: 0.0140\n"
     ]
    },
    {
     "data": {
      "text/plain": [
       "<tensorflow.python.keras.callbacks.History at 0x21bc212a488>"
      ]
     },
     "execution_count": 65,
     "metadata": {},
     "output_type": "execute_result"
    }
   ],
   "source": [
    "ANN_model = Sequential()\n",
    "ANN_model.add(Dense(512, input_shape=(1, look_back), activation='relu'))\n",
    "ANN_model.add(Dense(1))\n",
    "ANN_model.compile(loss='mean_squared_error', optimizer='adam')\n",
    "ANN_model.fit(trainX, trainY, epochs=20, batch_size=2, verbose=2)"
   ]
  },
  {
   "cell_type": "code",
   "execution_count": 66,
   "metadata": {},
   "outputs": [],
   "source": [
    "trainPredict = ANN_model.predict(trainX)\n",
    "testPredict = ANN_model.predict(testX)\n",
    "trainPredict = trainPredict.reshape(-1,1)\n",
    "testPredict = testPredict.reshape(-1,1)"
   ]
  },
  {
   "cell_type": "code",
   "execution_count": 67,
   "metadata": {},
   "outputs": [],
   "source": [
    "trainPredict = scaler.inverse_transform(trainPredict)\n",
    "testPredict = scaler.inverse_transform(testPredict)\n",
    "dataset = scaler.inverse_transform(dataset)"
   ]
  },
  {
   "cell_type": "code",
   "execution_count": 68,
   "metadata": {},
   "outputs": [
    {
     "data": {
      "image/png": "[encoded data removed]",
      "text/plain": [
       "<Figure size 1152x648 with 1 Axes>"
      ]
     },
     "metadata": {
      "needs_background": "light"
     },
     "output_type": "display_data"
    }
   ],
   "source": [
    "trainPredictPlot = np.empty_like(dataset)\n",
    "trainPredictPlot[:, :] = np.nan\n",
    "trainPredictPlot[look_back:len(trainPredict)+look_back, :] = trainPredict\n",
    "# shift test predictions for plotting\n",
    "testPredictPlot = np.empty_like(dataset)\n",
    "testPredictPlot[:, :] = np.nan\n",
    "testPredictPlot[len(trainPredict)+(look_back*2)+1:len(dataset)-1, :] = testPredict\n",
    "# plot baseline and predictions\n",
    "plt.figure(figsize=(16,9))\n",
    "plt.plot(dataset, color = 'blue')\n",
    "plt.plot(trainPredictPlot, color = 'orange')\n",
    "plt.plot(testPredictPlot, color = 'red')\n",
    "plt.legend(['Original','Train_Predicted','Test_Predicted'])\n",
    "plt.title('The Cases positive with Covid-19 following days in VietNam ')\n",
    "plt.ylabel('Cases')\n",
    "plt.show()"
   ]
  },
  {
   "cell_type": "code",
   "execution_count": 69,
   "metadata": {},
   "outputs": [],
   "source": [
    "testY =scaler.inverse_transform(testY.reshape(-1,1))"
   ]
  },
  {
   "cell_type": "code",
   "execution_count": 70,
   "metadata": {},
   "outputs": [
    {
     "name": "stdout",
     "output_type": "stream",
     "text": [
      "2.5422208\n",
      "18.21592\n",
      "4.268011\n"
     ]
    }
   ],
   "source": [
    "from sklearn.metrics import mean_absolute_error\n",
    "from sklearn.metrics import mean_squared_error\n",
    "MAE = mean_absolute_error(testY, testPredict)\n",
    "MSE = mean_squared_error(testY, testPredict)\n",
    "RMSE = np.sqrt(MSE)\n",
    "print(MAE)\n",
    "print(MSE)\n",
    "print(RMSE)"
   ]
  },
  {
   "cell_type": "code",
   "execution_count": null,
   "metadata": {},
   "outputs": [],
   "source": []
  },
  {
   "cell_type": "code",
   "execution_count": null,
   "metadata": {},
   "outputs": [],
   "source": []
  },
  {
   "cell_type": "code",
   "execution_count": null,
   "metadata": {},
   "outputs": [],
   "source": []
  },
  {
   "cell_type": "code",
   "execution_count": null,
   "metadata": {},
   "outputs": [],
   "source": []
  },
  {
   "cell_type": "code",
   "execution_count": null,
   "metadata": {},
   "outputs": [],
   "source": []
  },
  {
   "cell_type": "code",
   "execution_count": null,
   "metadata": {},
   "outputs": [],
   "source": []
  },
  {
   "cell_type": "code",
   "execution_count": null,
   "metadata": {},
   "outputs": [],
   "source": []
  }
 ],
 "metadata": {
  "kernelspec": {
   "display_name": "Python 3",
   "language": "python",
   "name": "python3"
  },
  "language_info": {
   "codemirror_mode": {
    "name": "ipython",
    "version": 3
   },
   "file_extension": ".py",
   "mimetype": "text/x-python",
   "name": "python",
   "nbconvert_exporter": "python",
   "pygments_lexer": "ipython3",
   "version": "3.7.7"
  }
 },
 "nbformat": 4,
 "nbformat_minor": 4
}
